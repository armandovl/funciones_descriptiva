{
  "nbformat": 4,
  "nbformat_minor": 0,
  "metadata": {
    "colab": {
      "name": "tablas_distribucion_frecuencia_funcion",
      "provenance": [],
      "collapsed_sections": [],
      "authorship_tag": "ABX9TyObv/LfiiCos9nP7Gt8r1Vm",
      "include_colab_link": true
    },
    "kernelspec": {
      "name": "python3",
      "display_name": "Python 3"
    },
    "language_info": {
      "name": "python"
    }
  },
  "cells": [
    {
      "cell_type": "markdown",
      "metadata": {
        "id": "view-in-github",
        "colab_type": "text"
      },
      "source": [
        "<a href=\"https://colab.research.google.com/github/armandovl/funciones_descriptiva/blob/main/tablas_distribucion_frecuencia_funcion_grafico.ipynb\" target=\"_parent\"><img src=\"https://colab.research.google.com/assets/colab-badge.svg\" alt=\"Open In Colab\"/></a>"
      ]
    },
    {
      "cell_type": "code",
      "execution_count": 1,
      "metadata": {
        "id": "r-GAgqzXmFQ4"
      },
      "outputs": [],
      "source": [
        "## Importar las librerías de cajón\n",
        "import pandas as pd\n",
        "import numpy as np\n",
        "import matplotlib.pyplot as plt\n",
        "import seaborn as sns"
      ]
    },
    {
      "cell_type": "code",
      "source": [
        "#importamos el data frame\n",
        "titanic=sns.load_dataset(\"titanic\")\n",
        "titanic.head(4)"
      ],
      "metadata": {
        "colab": {
          "base_uri": "https://localhost:8080/",
          "height": 175
        },
        "id": "vHbN0fjYmRDd",
        "outputId": "ebb1b548-d4f6-4774-d1de-bb760552aa9a"
      },
      "execution_count": 2,
      "outputs": [
        {
          "output_type": "execute_result",
          "data": {
            "text/html": [
              "<div>\n",
              "<style scoped>\n",
              "    .dataframe tbody tr th:only-of-type {\n",
              "        vertical-align: middle;\n",
              "    }\n",
              "\n",
              "    .dataframe tbody tr th {\n",
              "        vertical-align: top;\n",
              "    }\n",
              "\n",
              "    .dataframe thead th {\n",
              "        text-align: right;\n",
              "    }\n",
              "</style>\n",
              "<table border=\"1\" class=\"dataframe\">\n",
              "  <thead>\n",
              "    <tr style=\"text-align: right;\">\n",
              "      <th></th>\n",
              "      <th>survived</th>\n",
              "      <th>pclass</th>\n",
              "      <th>sex</th>\n",
              "      <th>age</th>\n",
              "      <th>sibsp</th>\n",
              "      <th>parch</th>\n",
              "      <th>fare</th>\n",
              "      <th>embarked</th>\n",
              "      <th>class</th>\n",
              "      <th>who</th>\n",
              "      <th>adult_male</th>\n",
              "      <th>deck</th>\n",
              "      <th>embark_town</th>\n",
              "      <th>alive</th>\n",
              "      <th>alone</th>\n",
              "    </tr>\n",
              "  </thead>\n",
              "  <tbody>\n",
              "    <tr>\n",
              "      <th>0</th>\n",
              "      <td>0</td>\n",
              "      <td>3</td>\n",
              "      <td>male</td>\n",
              "      <td>22.0</td>\n",
              "      <td>1</td>\n",
              "      <td>0</td>\n",
              "      <td>7.2500</td>\n",
              "      <td>S</td>\n",
              "      <td>Third</td>\n",
              "      <td>man</td>\n",
              "      <td>True</td>\n",
              "      <td>NaN</td>\n",
              "      <td>Southampton</td>\n",
              "      <td>no</td>\n",
              "      <td>False</td>\n",
              "    </tr>\n",
              "    <tr>\n",
              "      <th>1</th>\n",
              "      <td>1</td>\n",
              "      <td>1</td>\n",
              "      <td>female</td>\n",
              "      <td>38.0</td>\n",
              "      <td>1</td>\n",
              "      <td>0</td>\n",
              "      <td>71.2833</td>\n",
              "      <td>C</td>\n",
              "      <td>First</td>\n",
              "      <td>woman</td>\n",
              "      <td>False</td>\n",
              "      <td>C</td>\n",
              "      <td>Cherbourg</td>\n",
              "      <td>yes</td>\n",
              "      <td>False</td>\n",
              "    </tr>\n",
              "    <tr>\n",
              "      <th>2</th>\n",
              "      <td>1</td>\n",
              "      <td>3</td>\n",
              "      <td>female</td>\n",
              "      <td>26.0</td>\n",
              "      <td>0</td>\n",
              "      <td>0</td>\n",
              "      <td>7.9250</td>\n",
              "      <td>S</td>\n",
              "      <td>Third</td>\n",
              "      <td>woman</td>\n",
              "      <td>False</td>\n",
              "      <td>NaN</td>\n",
              "      <td>Southampton</td>\n",
              "      <td>yes</td>\n",
              "      <td>True</td>\n",
              "    </tr>\n",
              "    <tr>\n",
              "      <th>3</th>\n",
              "      <td>1</td>\n",
              "      <td>1</td>\n",
              "      <td>female</td>\n",
              "      <td>35.0</td>\n",
              "      <td>1</td>\n",
              "      <td>0</td>\n",
              "      <td>53.1000</td>\n",
              "      <td>S</td>\n",
              "      <td>First</td>\n",
              "      <td>woman</td>\n",
              "      <td>False</td>\n",
              "      <td>C</td>\n",
              "      <td>Southampton</td>\n",
              "      <td>yes</td>\n",
              "      <td>False</td>\n",
              "    </tr>\n",
              "  </tbody>\n",
              "</table>\n",
              "</div>"
            ],
            "text/plain": [
              "   survived  pclass     sex   age  ...  deck  embark_town  alive  alone\n",
              "0         0       3    male  22.0  ...   NaN  Southampton     no  False\n",
              "1         1       1  female  38.0  ...     C    Cherbourg    yes  False\n",
              "2         1       3  female  26.0  ...   NaN  Southampton    yes   True\n",
              "3         1       1  female  35.0  ...     C  Southampton    yes  False\n",
              "\n",
              "[4 rows x 15 columns]"
            ]
          },
          "metadata": {},
          "execution_count": 2
        }
      ]
    },
    {
      "cell_type": "code",
      "source": [
        "#dejar solo algunas variables categóricas\n",
        "titanic_nuevo=titanic[[\"survived\",\"pclass\",\"sex\",\"alone\"]]#todas las demas\n",
        "\n",
        "#creamos un nuevo data frame donde nuestras variables ya serán categoricas\n",
        "#incluso podemos cambiar los nombres\n",
        "titanic_nuevo2=pd.DataFrame()\n",
        "titanic_nuevo2[\"sobrevivientes\"]=pd.Categorical(titanic_nuevo[\"survived\"])\n",
        "titanic_nuevo2[\"clase\"]=pd.Categorical(titanic_nuevo[\"pclass\"])\n",
        "titanic_nuevo2[\"genero\"]=pd.Categorical(titanic_nuevo[\"sex\"])\n",
        "titanic_nuevo2[\"estado\"]=pd.Categorical(titanic_nuevo[\"alone\"])"
      ],
      "metadata": {
        "id": "Zn-QZBQcmUKE"
      },
      "execution_count": 3,
      "outputs": []
    },
    {
      "cell_type": "code",
      "source": [
        "titanic_nuevo2.head(5)"
      ],
      "metadata": {
        "colab": {
          "base_uri": "https://localhost:8080/",
          "height": 206
        },
        "id": "g5eHR5UaOYKY",
        "outputId": "ea8bbc53-07f1-4424-ddb7-30980fd564a2"
      },
      "execution_count": 4,
      "outputs": [
        {
          "output_type": "execute_result",
          "data": {
            "text/html": [
              "<div>\n",
              "<style scoped>\n",
              "    .dataframe tbody tr th:only-of-type {\n",
              "        vertical-align: middle;\n",
              "    }\n",
              "\n",
              "    .dataframe tbody tr th {\n",
              "        vertical-align: top;\n",
              "    }\n",
              "\n",
              "    .dataframe thead th {\n",
              "        text-align: right;\n",
              "    }\n",
              "</style>\n",
              "<table border=\"1\" class=\"dataframe\">\n",
              "  <thead>\n",
              "    <tr style=\"text-align: right;\">\n",
              "      <th></th>\n",
              "      <th>sobrevivientes</th>\n",
              "      <th>clase</th>\n",
              "      <th>genero</th>\n",
              "      <th>estado</th>\n",
              "    </tr>\n",
              "  </thead>\n",
              "  <tbody>\n",
              "    <tr>\n",
              "      <th>0</th>\n",
              "      <td>0</td>\n",
              "      <td>3</td>\n",
              "      <td>male</td>\n",
              "      <td>False</td>\n",
              "    </tr>\n",
              "    <tr>\n",
              "      <th>1</th>\n",
              "      <td>1</td>\n",
              "      <td>1</td>\n",
              "      <td>female</td>\n",
              "      <td>False</td>\n",
              "    </tr>\n",
              "    <tr>\n",
              "      <th>2</th>\n",
              "      <td>1</td>\n",
              "      <td>3</td>\n",
              "      <td>female</td>\n",
              "      <td>True</td>\n",
              "    </tr>\n",
              "    <tr>\n",
              "      <th>3</th>\n",
              "      <td>1</td>\n",
              "      <td>1</td>\n",
              "      <td>female</td>\n",
              "      <td>False</td>\n",
              "    </tr>\n",
              "    <tr>\n",
              "      <th>4</th>\n",
              "      <td>0</td>\n",
              "      <td>3</td>\n",
              "      <td>male</td>\n",
              "      <td>True</td>\n",
              "    </tr>\n",
              "  </tbody>\n",
              "</table>\n",
              "</div>"
            ],
            "text/plain": [
              "  sobrevivientes clase  genero estado\n",
              "0              0     3    male  False\n",
              "1              1     1  female  False\n",
              "2              1     3  female   True\n",
              "3              1     1  female  False\n",
              "4              0     3    male   True"
            ]
          },
          "metadata": {},
          "execution_count": 4
        }
      ]
    },
    {
      "cell_type": "code",
      "source": [
        "#Poner el porcentaje para una variable\n",
        "def var_por(dataFrame,variable):\n",
        "  #import pandas as pd\n",
        "  tab_frec=pd.crosstab(index=dataFrame[variable], columns=\"Conteo\")\n",
        "  tab_frec[\"porcentaje\"]=tab_frec/tab_frec.sum()*100\n",
        "    \n",
        "  print(tab_frec.round(1))\n",
        "  print(\"Totales   \", dataFrame[variable].count(), \"       100%\")"
      ],
      "metadata": {
        "id": "MWjptAGZjTEp"
      },
      "execution_count": 5,
      "outputs": []
    },
    {
      "cell_type": "code",
      "source": [
        "var_por(titanic,\"sex\") #Poner el porcentaje para una variable"
      ],
      "metadata": {
        "id": "8VajrpeOkADo",
        "outputId": "2869a279-e4d5-44af-ad65-f5fdf9228a27",
        "colab": {
          "base_uri": "https://localhost:8080/"
        }
      },
      "execution_count": 6,
      "outputs": [
        {
          "output_type": "stream",
          "name": "stdout",
          "text": [
            "col_0   Conteo  porcentaje\n",
            "sex                       \n",
            "female     314        35.2\n",
            "male       577        64.8\n",
            "Totales    891        100%\n"
          ]
        }
      ]
    },
    {
      "cell_type": "code",
      "source": [
        "#tablas multidimensionales\n",
        "#tablas de frecuencia cruzadas agrupadas\n",
        "\n",
        "#Las variables tienen que que ser categóricas\n",
        "\n",
        "def tablas_frecuencia(variablefila,listaVariablesColumnas):\n",
        "  \n",
        "  import pandas as pd #importamos la biblioteca de pandas por si acaso no lo hemos hecho\n",
        "  \n",
        "  #creamos la tabla con las columnas que queremos graficar\n",
        "  tab_10=pd.crosstab( \n",
        "        index=variablefila, #variable para las filas\n",
        "        columns=listaVariablesColumnas, #variables para las columnas\n",
        "        margins=True #que ponga los totales como \"All\"            \n",
        "                      )\n",
        "  #cambiar nombres de los totales\n",
        "  tab_10 = tab_10.rename(columns = {\"All\":\"total_filas\"})\n",
        "  tab_10 = tab_10.rename(index = {\"All\":\"total_columnas\"})\n",
        "\n",
        "  frecuencia_absoluta=tab_10 #colocamos nuestra trabla 10 (frecuencias absolutas ) en la variable frecuencia_absoluta\n",
        "\n",
        "\n",
        "  ####################################  frecuencias relativas marginales ############################\n",
        "\n",
        "  tab_11=tab_10/tab_10.loc[\"total_columnas\"]*100\n",
        "  frecuencia_relativa_marginal_columna=tab_11.round(1)\n",
        "\n",
        "  tab_12=tab_10.T/tab_10[\"total_filas\"]*100\n",
        "  frecuencia_relativa_marginal_fila=tab_12.T.round(1)\n",
        "\n",
        "  ########   A ############### B ################################### C #########################\n",
        "  return frecuencia_absoluta,frecuencia_relativa_marginal_columna,frecuencia_relativa_marginal_fila\n"
      ],
      "metadata": {
        "id": "H246vOcURuVx"
      },
      "execution_count": 7,
      "outputs": []
    },
    {
      "cell_type": "code",
      "source": [
        "fila=titanic_nuevo2.genero #tiene que estar escrita en formato dataFrame.variable\n",
        "columnas=[titanic_nuevo2.clase,titanic_nuevo2.estado] #tiene que ser las variables en formato de lista\n",
        "\n",
        "frec_ab, frec_re_mg_col, frec_re_mg_fil =tablas_frecuencia(fila,columnas)"
      ],
      "metadata": {
        "id": "ynly7LIDr7ei"
      },
      "execution_count": 56,
      "outputs": []
    },
    {
      "cell_type": "code",
      "source": [
        "frec_ab"
      ],
      "metadata": {
        "colab": {
          "base_uri": "https://localhost:8080/",
          "height": 206
        },
        "id": "IjxEJmN4s3ao",
        "outputId": "02910c54-2ff7-403c-97b0-770b67c0b039"
      },
      "execution_count": 57,
      "outputs": [
        {
          "output_type": "execute_result",
          "data": {
            "text/html": [
              "<div>\n",
              "<style scoped>\n",
              "    .dataframe tbody tr th:only-of-type {\n",
              "        vertical-align: middle;\n",
              "    }\n",
              "\n",
              "    .dataframe tbody tr th {\n",
              "        vertical-align: top;\n",
              "    }\n",
              "\n",
              "    .dataframe thead tr th {\n",
              "        text-align: left;\n",
              "    }\n",
              "\n",
              "    .dataframe thead tr:last-of-type th {\n",
              "        text-align: right;\n",
              "    }\n",
              "</style>\n",
              "<table border=\"1\" class=\"dataframe\">\n",
              "  <thead>\n",
              "    <tr>\n",
              "      <th>clase</th>\n",
              "      <th colspan=\"2\" halign=\"left\">1</th>\n",
              "      <th colspan=\"2\" halign=\"left\">2</th>\n",
              "      <th colspan=\"2\" halign=\"left\">3</th>\n",
              "      <th>total_filas</th>\n",
              "    </tr>\n",
              "    <tr>\n",
              "      <th>estado</th>\n",
              "      <th>False</th>\n",
              "      <th>True</th>\n",
              "      <th>False</th>\n",
              "      <th>True</th>\n",
              "      <th>False</th>\n",
              "      <th>True</th>\n",
              "      <th></th>\n",
              "    </tr>\n",
              "    <tr>\n",
              "      <th>genero</th>\n",
              "      <th></th>\n",
              "      <th></th>\n",
              "      <th></th>\n",
              "      <th></th>\n",
              "      <th></th>\n",
              "      <th></th>\n",
              "      <th></th>\n",
              "    </tr>\n",
              "  </thead>\n",
              "  <tbody>\n",
              "    <tr>\n",
              "      <th>female</th>\n",
              "      <td>60</td>\n",
              "      <td>34</td>\n",
              "      <td>44</td>\n",
              "      <td>32</td>\n",
              "      <td>84</td>\n",
              "      <td>60</td>\n",
              "      <td>314</td>\n",
              "    </tr>\n",
              "    <tr>\n",
              "      <th>male</th>\n",
              "      <td>47</td>\n",
              "      <td>75</td>\n",
              "      <td>36</td>\n",
              "      <td>72</td>\n",
              "      <td>83</td>\n",
              "      <td>264</td>\n",
              "      <td>577</td>\n",
              "    </tr>\n",
              "    <tr>\n",
              "      <th>total_columnas</th>\n",
              "      <td>107</td>\n",
              "      <td>109</td>\n",
              "      <td>80</td>\n",
              "      <td>104</td>\n",
              "      <td>167</td>\n",
              "      <td>324</td>\n",
              "      <td>891</td>\n",
              "    </tr>\n",
              "  </tbody>\n",
              "</table>\n",
              "</div>"
            ],
            "text/plain": [
              "clase              1          2          3      total_filas\n",
              "estado         False True False True False True            \n",
              "genero                                                     \n",
              "female            60   34    44   32    84   60         314\n",
              "male              47   75    36   72    83  264         577\n",
              "total_columnas   107  109    80  104   167  324         891"
            ]
          },
          "metadata": {},
          "execution_count": 57
        }
      ]
    },
    {
      "cell_type": "code",
      "source": [
        "############## Vamos a Graficar #####################\n",
        "\n",
        "#eliminar columnas totales ,solo una vez\n",
        "#frec_ab=frec_ab.drop([\"total_columnas\"],axis=0)\n",
        "#frec_ab=frec_ab.drop([\"total_filas\"],axis=1)\n",
        "\n",
        "frec_ab.plot(kind=\"bar\", #barh para horizontal\n",
        "        title=\"Aquí va un título\",\n",
        "        alpha=0.8, #nivel de transparencia\n",
        "        width=0.5, #ancho de las barras\n",
        "        figsize=(6,5), #tamaño de la figura\n",
        "        subplots=False, #poner True para dividir en varios gráficos\n",
        "        color=[\"#EE6055\",\"#60D394\",\"#AAF683\",\"#FFD97D\",\"#FF9B85\",\"purple\",\"pink\",\"green\"]\n",
        "        ); \n",
        "\n",
        "frec_ab\n"
      ],
      "metadata": {
        "id": "q_WB9pzcu6yr",
        "outputId": "c40aaf4a-c737-4eed-8732-a0d7bc374ac9",
        "colab": {
          "base_uri": "https://localhost:8080/",
          "height": 532
        }
      },
      "execution_count": 60,
      "outputs": [
        {
          "output_type": "execute_result",
          "data": {
            "text/html": [
              "<div>\n",
              "<style scoped>\n",
              "    .dataframe tbody tr th:only-of-type {\n",
              "        vertical-align: middle;\n",
              "    }\n",
              "\n",
              "    .dataframe tbody tr th {\n",
              "        vertical-align: top;\n",
              "    }\n",
              "\n",
              "    .dataframe thead tr th {\n",
              "        text-align: left;\n",
              "    }\n",
              "\n",
              "    .dataframe thead tr:last-of-type th {\n",
              "        text-align: right;\n",
              "    }\n",
              "</style>\n",
              "<table border=\"1\" class=\"dataframe\">\n",
              "  <thead>\n",
              "    <tr>\n",
              "      <th>clase</th>\n",
              "      <th colspan=\"2\" halign=\"left\">1</th>\n",
              "      <th colspan=\"2\" halign=\"left\">2</th>\n",
              "      <th colspan=\"2\" halign=\"left\">3</th>\n",
              "    </tr>\n",
              "    <tr>\n",
              "      <th>estado</th>\n",
              "      <th>False</th>\n",
              "      <th>True</th>\n",
              "      <th>False</th>\n",
              "      <th>True</th>\n",
              "      <th>False</th>\n",
              "      <th>True</th>\n",
              "    </tr>\n",
              "    <tr>\n",
              "      <th>genero</th>\n",
              "      <th></th>\n",
              "      <th></th>\n",
              "      <th></th>\n",
              "      <th></th>\n",
              "      <th></th>\n",
              "      <th></th>\n",
              "    </tr>\n",
              "  </thead>\n",
              "  <tbody>\n",
              "    <tr>\n",
              "      <th>female</th>\n",
              "      <td>60</td>\n",
              "      <td>34</td>\n",
              "      <td>44</td>\n",
              "      <td>32</td>\n",
              "      <td>84</td>\n",
              "      <td>60</td>\n",
              "    </tr>\n",
              "    <tr>\n",
              "      <th>male</th>\n",
              "      <td>47</td>\n",
              "      <td>75</td>\n",
              "      <td>36</td>\n",
              "      <td>72</td>\n",
              "      <td>83</td>\n",
              "      <td>264</td>\n",
              "    </tr>\n",
              "  </tbody>\n",
              "</table>\n",
              "</div>"
            ],
            "text/plain": [
              "clase      1           2           3      \n",
              "estado False True  False True  False True \n",
              "genero                                    \n",
              "female    60    34    44    32    84    60\n",
              "male      47    75    36    72    83   264"
            ]
          },
          "metadata": {},
          "execution_count": 60
        },
        {
          "output_type": "display_data",
          "data": {
            "image/png": "[encoded data removed]",
            "text/plain": [
              "<Figure size 432x360 with 1 Axes>"
            ]
          },
          "metadata": {
            "needs_background": "light"
          }
        }
      ]
    },
    {
      "cell_type": "code",
      "source": [
        "#tablas multidimensionales\n",
        "#tablas de frecuencia cruzadas agrupadas\n",
        "\n",
        "#Frecuencias Relativas absolutas\n",
        "\n",
        "import pandas as pd\n",
        "\n",
        "tab_10=pd.crosstab(\n",
        "    index=titanic_nuevo2[\"sobrevivientes\"], #poner el nombre de la variable que van a ir en las filas\n",
        "    columns=[titanic_nuevo2[\"genero\"],titanic_nuevo2[\"clase\"]], #nombre de las variables que va a ir en las columnas\n",
        "    margins=True             \n",
        "                   )\n",
        "print(\"Tabla de frecuencias absolutas original \\n\\n\",tab_10,\"\\n\\n\")\n",
        "\n",
        "####################################  Cambiar nombres ############################\n",
        "\n",
        "'''\n",
        "\n",
        "tab_10.index=[\"finado\",\"vivo\", \"total_columnas\"] #nuevos nombres filas\n",
        "#cambiar nombre\n",
        "tab_10.columns=[\"f1\",\"f2\", \"f3\",\"m1\",\"m2\", \"m3\",\"total_filas\"] #nuevos nombres columnas\n",
        "\n",
        "\n",
        "print(\"Tabla de frecuencias absolutas \\n\\n\",tab_10,\"\\n\\n\")\n",
        "'''\n",
        "\n",
        "####################################  frecuencias relativas globales ############################\n",
        "\n",
        "'''\n",
        "tab_11=tab_10/tab_10.loc[\"total_columnas\",\"total_filas\"]*100\n",
        "\n",
        "print(\"Tabla de frecuencias relativas globales \\n\\n\",tab_11.round(1))\n",
        "'''\n"
      ],
      "metadata": {
        "colab": {
          "base_uri": "https://localhost:8080/",
          "height": 209
        },
        "id": "2uASZOBQmrRM",
        "outputId": "ba60eba8-9315-4bb6-a510-5255e8bc9ae9"
      },
      "execution_count": 10,
      "outputs": [
        {
          "output_type": "stream",
          "name": "stdout",
          "text": [
            "Tabla de frecuencias absolutas original \n",
            "\n",
            " genero         female          male            All\n",
            "clase               1   2    3    1    2    3     \n",
            "sobrevivientes                                    \n",
            "0                   3   6   72   77   91  300  549\n",
            "1                  91  70   72   45   17   47  342\n",
            "All                94  76  144  122  108  347  891 \n",
            "\n",
            "\n"
          ]
        },
        {
          "output_type": "execute_result",
          "data": {
            "application/vnd.google.colaboratory.intrinsic+json": {
              "type": "string"
            },
            "text/plain": [
              "'\\ntab_11=tab_10/tab_10.loc[\"total_columnas\",\"total_filas\"]*100\\n\\nprint(\"Tabla de frecuencias relativas globales \\n\\n\",tab_11.round(1))\\n'"
            ]
          },
          "metadata": {},
          "execution_count": 10
        }
      ]
    }
  ]
}