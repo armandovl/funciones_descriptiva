{
  "nbformat": 4,
  "nbformat_minor": 0,
  "metadata": {
    "colab": {
      "name": "Clase_Estadistica_Descriptiva",
      "provenance": [],
      "authorship_tag": "ABX9TyPQ9VNEhfXBwO39rLqN8wU/",
      "include_colab_link": true
    },
    "kernelspec": {
      "name": "python3",
      "display_name": "Python 3"
    },
    "language_info": {
      "name": "python"
    }
  },
  "cells": [
    {
      "cell_type": "markdown",
      "metadata": {
        "id": "view-in-github",
        "colab_type": "text"
      },
      "source": [
        "<a href=\"https://colab.research.google.com/github/armandovl/funciones_descriptiva/blob/main/Clase_Estadistica_Descriptiva.ipynb\" target=\"_parent\"><img src=\"https://colab.research.google.com/assets/colab-badge.svg\" alt=\"Open In Colab\"/></a>"
      ]
    },
    {
      "cell_type": "code",
      "metadata": {
        "id": "RCcR5RDOuTGd"
      },
      "source": [
        "#importamos librerías de cajon\n",
        "import pandas as pd\n",
        "import numpy as np\n",
        "import matplotlib.pyplot as plt\n",
        "import seaborn as sns"
      ],
      "execution_count": 1,
      "outputs": []
    },
    {
      "cell_type": "code",
      "metadata": {
        "id": "su1gbm5wumsY",
        "colab": {
          "base_uri": "https://localhost:8080/",
          "height": 206
        },
        "outputId": "b403b0fe-baad-4194-c60e-1239f93ae3e0"
      },
      "source": [
        "#importamos el data frame\n",
        "url=\"https://raw.githubusercontent.com/armandovl/datasets_uno/main/atitanic.csv\"\n",
        "datos= pd.read_csv(url) #leer la url y ponerlo en un dataframe\n",
        "datos.head() #ver el encabezado"
      ],
      "execution_count": 9,
      "outputs": [
        {
          "output_type": "execute_result",
          "data": {
            "text/html": [
              "<div>\n",
              "<style scoped>\n",
              "    .dataframe tbody tr th:only-of-type {\n",
              "        vertical-align: middle;\n",
              "    }\n",
              "\n",
              "    .dataframe tbody tr th {\n",
              "        vertical-align: top;\n",
              "    }\n",
              "\n",
              "    .dataframe thead th {\n",
              "        text-align: right;\n",
              "    }\n",
              "</style>\n",
              "<table border=\"1\" class=\"dataframe\">\n",
              "  <thead>\n",
              "    <tr style=\"text-align: right;\">\n",
              "      <th></th>\n",
              "      <th>PassengerId</th>\n",
              "      <th>Name</th>\n",
              "      <th>Age</th>\n",
              "      <th>Pclass</th>\n",
              "      <th>Sex</th>\n",
              "      <th>Family</th>\n",
              "      <th>Embarked</th>\n",
              "      <th>Survived</th>\n",
              "    </tr>\n",
              "  </thead>\n",
              "  <tbody>\n",
              "    <tr>\n",
              "      <th>0</th>\n",
              "      <td>891</td>\n",
              "      <td>Dooley, Mr. Patrick</td>\n",
              "      <td>32.0</td>\n",
              "      <td>3</td>\n",
              "      <td>male</td>\n",
              "      <td>0</td>\n",
              "      <td>Q</td>\n",
              "      <td>muere</td>\n",
              "    </tr>\n",
              "    <tr>\n",
              "      <th>1</th>\n",
              "      <td>890</td>\n",
              "      <td>Behr, Mr. Karl Howell</td>\n",
              "      <td>26.0</td>\n",
              "      <td>1</td>\n",
              "      <td>male</td>\n",
              "      <td>0</td>\n",
              "      <td>C</td>\n",
              "      <td>vive</td>\n",
              "    </tr>\n",
              "    <tr>\n",
              "      <th>2</th>\n",
              "      <td>888</td>\n",
              "      <td>Graham, Miss. Margaret Edith</td>\n",
              "      <td>19.0</td>\n",
              "      <td>1</td>\n",
              "      <td>female</td>\n",
              "      <td>0</td>\n",
              "      <td>S</td>\n",
              "      <td>vive</td>\n",
              "    </tr>\n",
              "    <tr>\n",
              "      <th>3</th>\n",
              "      <td>887</td>\n",
              "      <td>Montvila, Rev. Juozas</td>\n",
              "      <td>27.0</td>\n",
              "      <td>2</td>\n",
              "      <td>male</td>\n",
              "      <td>0</td>\n",
              "      <td>S</td>\n",
              "      <td>muere</td>\n",
              "    </tr>\n",
              "    <tr>\n",
              "      <th>4</th>\n",
              "      <td>886</td>\n",
              "      <td>Rice, Mrs. William (Margaret Norton)</td>\n",
              "      <td>39.0</td>\n",
              "      <td>3</td>\n",
              "      <td>female</td>\n",
              "      <td>5</td>\n",
              "      <td>Q</td>\n",
              "      <td>muere</td>\n",
              "    </tr>\n",
              "  </tbody>\n",
              "</table>\n",
              "</div>"
            ],
            "text/plain": [
              "   PassengerId                                  Name  ...  Embarked  Survived\n",
              "0          891                   Dooley, Mr. Patrick  ...         Q     muere\n",
              "1          890                 Behr, Mr. Karl Howell  ...         C      vive\n",
              "2          888          Graham, Miss. Margaret Edith  ...         S      vive\n",
              "3          887                 Montvila, Rev. Juozas  ...         S     muere\n",
              "4          886  Rice, Mrs. William (Margaret Norton)  ...         Q     muere\n",
              "\n",
              "[5 rows x 8 columns]"
            ]
          },
          "metadata": {},
          "execution_count": 9
        }
      ]
    },
    {
      "cell_type": "code",
      "metadata": {
        "id": "ioWDK-lamh53",
        "colab": {
          "base_uri": "https://localhost:8080/",
          "height": 300
        },
        "outputId": "badaed1d-9b7a-451d-a69e-7c21c96b1a81"
      },
      "source": [
        "datos.head(8) #primeras 8 filas"
      ],
      "execution_count": 8,
      "outputs": [
        {
          "output_type": "execute_result",
          "data": {
            "text/html": [
              "<div>\n",
              "<style scoped>\n",
              "    .dataframe tbody tr th:only-of-type {\n",
              "        vertical-align: middle;\n",
              "    }\n",
              "\n",
              "    .dataframe tbody tr th {\n",
              "        vertical-align: top;\n",
              "    }\n",
              "\n",
              "    .dataframe thead th {\n",
              "        text-align: right;\n",
              "    }\n",
              "</style>\n",
              "<table border=\"1\" class=\"dataframe\">\n",
              "  <thead>\n",
              "    <tr style=\"text-align: right;\">\n",
              "      <th></th>\n",
              "      <th>PassengerId</th>\n",
              "      <th>Name</th>\n",
              "      <th>Age</th>\n",
              "      <th>Pclass</th>\n",
              "      <th>Sex</th>\n",
              "      <th>Family</th>\n",
              "      <th>Embarked</th>\n",
              "      <th>Survived</th>\n",
              "    </tr>\n",
              "  </thead>\n",
              "  <tbody>\n",
              "    <tr>\n",
              "      <th>0</th>\n",
              "      <td>891</td>\n",
              "      <td>Dooley, Mr. Patrick</td>\n",
              "      <td>32.0</td>\n",
              "      <td>3</td>\n",
              "      <td>male</td>\n",
              "      <td>0</td>\n",
              "      <td>Q</td>\n",
              "      <td>muere</td>\n",
              "    </tr>\n",
              "    <tr>\n",
              "      <th>1</th>\n",
              "      <td>890</td>\n",
              "      <td>Behr, Mr. Karl Howell</td>\n",
              "      <td>26.0</td>\n",
              "      <td>1</td>\n",
              "      <td>male</td>\n",
              "      <td>0</td>\n",
              "      <td>C</td>\n",
              "      <td>vive</td>\n",
              "    </tr>\n",
              "    <tr>\n",
              "      <th>2</th>\n",
              "      <td>888</td>\n",
              "      <td>Graham, Miss. Margaret Edith</td>\n",
              "      <td>19.0</td>\n",
              "      <td>1</td>\n",
              "      <td>female</td>\n",
              "      <td>0</td>\n",
              "      <td>S</td>\n",
              "      <td>vive</td>\n",
              "    </tr>\n",
              "    <tr>\n",
              "      <th>3</th>\n",
              "      <td>887</td>\n",
              "      <td>Montvila, Rev. Juozas</td>\n",
              "      <td>27.0</td>\n",
              "      <td>2</td>\n",
              "      <td>male</td>\n",
              "      <td>0</td>\n",
              "      <td>S</td>\n",
              "      <td>muere</td>\n",
              "    </tr>\n",
              "    <tr>\n",
              "      <th>4</th>\n",
              "      <td>886</td>\n",
              "      <td>Rice, Mrs. William (Margaret Norton)</td>\n",
              "      <td>39.0</td>\n",
              "      <td>3</td>\n",
              "      <td>female</td>\n",
              "      <td>5</td>\n",
              "      <td>Q</td>\n",
              "      <td>muere</td>\n",
              "    </tr>\n",
              "    <tr>\n",
              "      <th>5</th>\n",
              "      <td>885</td>\n",
              "      <td>Sutehall, Mr. Henry Jr</td>\n",
              "      <td>25.0</td>\n",
              "      <td>3</td>\n",
              "      <td>male</td>\n",
              "      <td>0</td>\n",
              "      <td>S</td>\n",
              "      <td>muere</td>\n",
              "    </tr>\n",
              "    <tr>\n",
              "      <th>6</th>\n",
              "      <td>884</td>\n",
              "      <td>Banfield, Mr. Frederick James</td>\n",
              "      <td>28.0</td>\n",
              "      <td>2</td>\n",
              "      <td>male</td>\n",
              "      <td>0</td>\n",
              "      <td>S</td>\n",
              "      <td>muere</td>\n",
              "    </tr>\n",
              "    <tr>\n",
              "      <th>7</th>\n",
              "      <td>883</td>\n",
              "      <td>Dahlberg, Miss. Gerda Ulrika</td>\n",
              "      <td>22.0</td>\n",
              "      <td>3</td>\n",
              "      <td>female</td>\n",
              "      <td>0</td>\n",
              "      <td>S</td>\n",
              "      <td>muere</td>\n",
              "    </tr>\n",
              "  </tbody>\n",
              "</table>\n",
              "</div>"
            ],
            "text/plain": [
              "   PassengerId                                  Name  ...  Embarked  Survived\n",
              "0          891                   Dooley, Mr. Patrick  ...         Q     muere\n",
              "1          890                 Behr, Mr. Karl Howell  ...         C      vive\n",
              "2          888          Graham, Miss. Margaret Edith  ...         S      vive\n",
              "3          887                 Montvila, Rev. Juozas  ...         S     muere\n",
              "4          886  Rice, Mrs. William (Margaret Norton)  ...         Q     muere\n",
              "5          885                Sutehall, Mr. Henry Jr  ...         S     muere\n",
              "6          884         Banfield, Mr. Frederick James  ...         S     muere\n",
              "7          883          Dahlberg, Miss. Gerda Ulrika  ...         S     muere\n",
              "\n",
              "[8 rows x 8 columns]"
            ]
          },
          "metadata": {},
          "execution_count": 8
        }
      ]
    },
    {
      "cell_type": "code",
      "metadata": {
        "id": "WdSicM8ummjG"
      },
      "source": [
        "datos.tail(5) #últimas 8 filas"
      ],
      "execution_count": null,
      "outputs": []
    },
    {
      "cell_type": "code",
      "source": [
        "datos.shape #imprime las filas y las columnas"
      ],
      "metadata": {
        "id": "QSnAkZ8LBEhL"
      },
      "execution_count": null,
      "outputs": []
    },
    {
      "cell_type": "code",
      "metadata": {
        "id": "fMNbwfTgnFph"
      },
      "source": [
        "datos.columns #nombre de las columnas"
      ],
      "execution_count": null,
      "outputs": []
    },
    {
      "cell_type": "code",
      "source": [
        "datos.dtypes #tipos de variables"
      ],
      "metadata": {
        "id": "K6kFACevBhMX"
      },
      "execution_count": null,
      "outputs": []
    },
    {
      "cell_type": "code",
      "metadata": {
        "id": "zpV0eelpkCFN"
      },
      "source": [
        "datos.info() # nombre columna conteo nulos tipos de variables"
      ],
      "execution_count": null,
      "outputs": []
    },
    {
      "cell_type": "code",
      "metadata": {
        "id": "T17RE48joOWo",
        "colab": {
          "base_uri": "https://localhost:8080/",
          "height": 424
        },
        "outputId": "2f134218-b3a2-4aa3-93a7-819346449fa4"
      },
      "source": [
        "#cambiar nombre de ciertas columnas\n",
        "datos=datos.rename(columns={'PassengerId':'Identificador',\n",
        "                      'Name':'El nombre',\n",
        "                      'Age':'la edad'}\n",
        "             )\n",
        "datos"
      ],
      "execution_count": 11,
      "outputs": [
        {
          "output_type": "execute_result",
          "data": {
            "text/html": [
              "<div>\n",
              "<style scoped>\n",
              "    .dataframe tbody tr th:only-of-type {\n",
              "        vertical-align: middle;\n",
              "    }\n",
              "\n",
              "    .dataframe tbody tr th {\n",
              "        vertical-align: top;\n",
              "    }\n",
              "\n",
              "    .dataframe thead th {\n",
              "        text-align: right;\n",
              "    }\n",
              "</style>\n",
              "<table border=\"1\" class=\"dataframe\">\n",
              "  <thead>\n",
              "    <tr style=\"text-align: right;\">\n",
              "      <th></th>\n",
              "      <th>Identificador</th>\n",
              "      <th>El nombre</th>\n",
              "      <th>la edad</th>\n",
              "      <th>Pclass</th>\n",
              "      <th>Sex</th>\n",
              "      <th>Family</th>\n",
              "      <th>Embarked</th>\n",
              "      <th>Survived</th>\n",
              "    </tr>\n",
              "  </thead>\n",
              "  <tbody>\n",
              "    <tr>\n",
              "      <th>0</th>\n",
              "      <td>891</td>\n",
              "      <td>Dooley, Mr. Patrick</td>\n",
              "      <td>32.0</td>\n",
              "      <td>3</td>\n",
              "      <td>male</td>\n",
              "      <td>0</td>\n",
              "      <td>Q</td>\n",
              "      <td>muere</td>\n",
              "    </tr>\n",
              "    <tr>\n",
              "      <th>1</th>\n",
              "      <td>890</td>\n",
              "      <td>Behr, Mr. Karl Howell</td>\n",
              "      <td>26.0</td>\n",
              "      <td>1</td>\n",
              "      <td>male</td>\n",
              "      <td>0</td>\n",
              "      <td>C</td>\n",
              "      <td>vive</td>\n",
              "    </tr>\n",
              "    <tr>\n",
              "      <th>2</th>\n",
              "      <td>888</td>\n",
              "      <td>Graham, Miss. Margaret Edith</td>\n",
              "      <td>19.0</td>\n",
              "      <td>1</td>\n",
              "      <td>female</td>\n",
              "      <td>0</td>\n",
              "      <td>S</td>\n",
              "      <td>vive</td>\n",
              "    </tr>\n",
              "    <tr>\n",
              "      <th>3</th>\n",
              "      <td>887</td>\n",
              "      <td>Montvila, Rev. Juozas</td>\n",
              "      <td>27.0</td>\n",
              "      <td>2</td>\n",
              "      <td>male</td>\n",
              "      <td>0</td>\n",
              "      <td>S</td>\n",
              "      <td>muere</td>\n",
              "    </tr>\n",
              "    <tr>\n",
              "      <th>4</th>\n",
              "      <td>886</td>\n",
              "      <td>Rice, Mrs. William (Margaret Norton)</td>\n",
              "      <td>39.0</td>\n",
              "      <td>3</td>\n",
              "      <td>female</td>\n",
              "      <td>5</td>\n",
              "      <td>Q</td>\n",
              "      <td>muere</td>\n",
              "    </tr>\n",
              "    <tr>\n",
              "      <th>...</th>\n",
              "      <td>...</td>\n",
              "      <td>...</td>\n",
              "      <td>...</td>\n",
              "      <td>...</td>\n",
              "      <td>...</td>\n",
              "      <td>...</td>\n",
              "      <td>...</td>\n",
              "      <td>...</td>\n",
              "    </tr>\n",
              "    <tr>\n",
              "      <th>709</th>\n",
              "      <td>5</td>\n",
              "      <td>Allen, Mr. William Henry</td>\n",
              "      <td>35.0</td>\n",
              "      <td>3</td>\n",
              "      <td>male</td>\n",
              "      <td>0</td>\n",
              "      <td>S</td>\n",
              "      <td>muere</td>\n",
              "    </tr>\n",
              "    <tr>\n",
              "      <th>710</th>\n",
              "      <td>4</td>\n",
              "      <td>Futrelle, Mrs. Jacques Heath (Lily May Peel)</td>\n",
              "      <td>35.0</td>\n",
              "      <td>1</td>\n",
              "      <td>female</td>\n",
              "      <td>1</td>\n",
              "      <td>S</td>\n",
              "      <td>vive</td>\n",
              "    </tr>\n",
              "    <tr>\n",
              "      <th>711</th>\n",
              "      <td>3</td>\n",
              "      <td>Heikkinen, Miss. Laina</td>\n",
              "      <td>26.0</td>\n",
              "      <td>3</td>\n",
              "      <td>female</td>\n",
              "      <td>0</td>\n",
              "      <td>S</td>\n",
              "      <td>vive</td>\n",
              "    </tr>\n",
              "    <tr>\n",
              "      <th>712</th>\n",
              "      <td>2</td>\n",
              "      <td>Cumings, Mrs. John Bradley (Florence Briggs Th...</td>\n",
              "      <td>38.0</td>\n",
              "      <td>1</td>\n",
              "      <td>female</td>\n",
              "      <td>1</td>\n",
              "      <td>C</td>\n",
              "      <td>vive</td>\n",
              "    </tr>\n",
              "    <tr>\n",
              "      <th>713</th>\n",
              "      <td>1</td>\n",
              "      <td>Braund, Mr. Owen Harris</td>\n",
              "      <td>22.0</td>\n",
              "      <td>3</td>\n",
              "      <td>male</td>\n",
              "      <td>1</td>\n",
              "      <td>S</td>\n",
              "      <td>muere</td>\n",
              "    </tr>\n",
              "  </tbody>\n",
              "</table>\n",
              "<p>714 rows × 8 columns</p>\n",
              "</div>"
            ],
            "text/plain": [
              "     Identificador  ... Survived\n",
              "0              891  ...    muere\n",
              "1              890  ...     vive\n",
              "2              888  ...     vive\n",
              "3              887  ...    muere\n",
              "4              886  ...    muere\n",
              "..             ...  ...      ...\n",
              "709              5  ...    muere\n",
              "710              4  ...     vive\n",
              "711              3  ...     vive\n",
              "712              2  ...     vive\n",
              "713              1  ...    muere\n",
              "\n",
              "[714 rows x 8 columns]"
            ]
          },
          "metadata": {},
          "execution_count": 11
        }
      ]
    },
    {
      "cell_type": "code",
      "metadata": {
        "id": "NqRoNupXqF7e",
        "colab": {
          "base_uri": "https://localhost:8080/",
          "height": 424
        },
        "outputId": "931867df-bf07-446f-8bfc-418882b1529d"
      },
      "source": [
        "#cambiar nombre de todas columnas\n",
        "datos.columns = ['Id', 'Nombre', 'Edad', 'Clase', 'Sexo', 'Familia','Embarcacion','Sobrevivientes']\n",
        "datos"
      ],
      "execution_count": 13,
      "outputs": [
        {
          "output_type": "execute_result",
          "data": {
            "text/html": [
              "<div>\n",
              "<style scoped>\n",
              "    .dataframe tbody tr th:only-of-type {\n",
              "        vertical-align: middle;\n",
              "    }\n",
              "\n",
              "    .dataframe tbody tr th {\n",
              "        vertical-align: top;\n",
              "    }\n",
              "\n",
              "    .dataframe thead th {\n",
              "        text-align: right;\n",
              "    }\n",
              "</style>\n",
              "<table border=\"1\" class=\"dataframe\">\n",
              "  <thead>\n",
              "    <tr style=\"text-align: right;\">\n",
              "      <th></th>\n",
              "      <th>Id</th>\n",
              "      <th>Nombre</th>\n",
              "      <th>Edad</th>\n",
              "      <th>Clase</th>\n",
              "      <th>Sexo</th>\n",
              "      <th>Familia</th>\n",
              "      <th>Embarcacion</th>\n",
              "      <th>Sobrevivientes</th>\n",
              "    </tr>\n",
              "  </thead>\n",
              "  <tbody>\n",
              "    <tr>\n",
              "      <th>0</th>\n",
              "      <td>891</td>\n",
              "      <td>Dooley, Mr. Patrick</td>\n",
              "      <td>32.0</td>\n",
              "      <td>3</td>\n",
              "      <td>male</td>\n",
              "      <td>0</td>\n",
              "      <td>Q</td>\n",
              "      <td>muere</td>\n",
              "    </tr>\n",
              "    <tr>\n",
              "      <th>1</th>\n",
              "      <td>890</td>\n",
              "      <td>Behr, Mr. Karl Howell</td>\n",
              "      <td>26.0</td>\n",
              "      <td>1</td>\n",
              "      <td>male</td>\n",
              "      <td>0</td>\n",
              "      <td>C</td>\n",
              "      <td>vive</td>\n",
              "    </tr>\n",
              "    <tr>\n",
              "      <th>2</th>\n",
              "      <td>888</td>\n",
              "      <td>Graham, Miss. Margaret Edith</td>\n",
              "      <td>19.0</td>\n",
              "      <td>1</td>\n",
              "      <td>female</td>\n",
              "      <td>0</td>\n",
              "      <td>S</td>\n",
              "      <td>vive</td>\n",
              "    </tr>\n",
              "    <tr>\n",
              "      <th>3</th>\n",
              "      <td>887</td>\n",
              "      <td>Montvila, Rev. Juozas</td>\n",
              "      <td>27.0</td>\n",
              "      <td>2</td>\n",
              "      <td>male</td>\n",
              "      <td>0</td>\n",
              "      <td>S</td>\n",
              "      <td>muere</td>\n",
              "    </tr>\n",
              "    <tr>\n",
              "      <th>4</th>\n",
              "      <td>886</td>\n",
              "      <td>Rice, Mrs. William (Margaret Norton)</td>\n",
              "      <td>39.0</td>\n",
              "      <td>3</td>\n",
              "      <td>female</td>\n",
              "      <td>5</td>\n",
              "      <td>Q</td>\n",
              "      <td>muere</td>\n",
              "    </tr>\n",
              "    <tr>\n",
              "      <th>...</th>\n",
              "      <td>...</td>\n",
              "      <td>...</td>\n",
              "      <td>...</td>\n",
              "      <td>...</td>\n",
              "      <td>...</td>\n",
              "      <td>...</td>\n",
              "      <td>...</td>\n",
              "      <td>...</td>\n",
              "    </tr>\n",
              "    <tr>\n",
              "      <th>709</th>\n",
              "      <td>5</td>\n",
              "      <td>Allen, Mr. William Henry</td>\n",
              "      <td>35.0</td>\n",
              "      <td>3</td>\n",
              "      <td>male</td>\n",
              "      <td>0</td>\n",
              "      <td>S</td>\n",
              "      <td>muere</td>\n",
              "    </tr>\n",
              "    <tr>\n",
              "      <th>710</th>\n",
              "      <td>4</td>\n",
              "      <td>Futrelle, Mrs. Jacques Heath (Lily May Peel)</td>\n",
              "      <td>35.0</td>\n",
              "      <td>1</td>\n",
              "      <td>female</td>\n",
              "      <td>1</td>\n",
              "      <td>S</td>\n",
              "      <td>vive</td>\n",
              "    </tr>\n",
              "    <tr>\n",
              "      <th>711</th>\n",
              "      <td>3</td>\n",
              "      <td>Heikkinen, Miss. Laina</td>\n",
              "      <td>26.0</td>\n",
              "      <td>3</td>\n",
              "      <td>female</td>\n",
              "      <td>0</td>\n",
              "      <td>S</td>\n",
              "      <td>vive</td>\n",
              "    </tr>\n",
              "    <tr>\n",
              "      <th>712</th>\n",
              "      <td>2</td>\n",
              "      <td>Cumings, Mrs. John Bradley (Florence Briggs Th...</td>\n",
              "      <td>38.0</td>\n",
              "      <td>1</td>\n",
              "      <td>female</td>\n",
              "      <td>1</td>\n",
              "      <td>C</td>\n",
              "      <td>vive</td>\n",
              "    </tr>\n",
              "    <tr>\n",
              "      <th>713</th>\n",
              "      <td>1</td>\n",
              "      <td>Braund, Mr. Owen Harris</td>\n",
              "      <td>22.0</td>\n",
              "      <td>3</td>\n",
              "      <td>male</td>\n",
              "      <td>1</td>\n",
              "      <td>S</td>\n",
              "      <td>muere</td>\n",
              "    </tr>\n",
              "  </tbody>\n",
              "</table>\n",
              "<p>714 rows × 8 columns</p>\n",
              "</div>"
            ],
            "text/plain": [
              "      Id  ... Sobrevivientes\n",
              "0    891  ...          muere\n",
              "1    890  ...           vive\n",
              "2    888  ...           vive\n",
              "3    887  ...          muere\n",
              "4    886  ...          muere\n",
              "..   ...  ...            ...\n",
              "709    5  ...          muere\n",
              "710    4  ...           vive\n",
              "711    3  ...           vive\n",
              "712    2  ...           vive\n",
              "713    1  ...          muere\n",
              "\n",
              "[714 rows x 8 columns]"
            ]
          },
          "metadata": {},
          "execution_count": 13
        }
      ]
    },
    {
      "cell_type": "code",
      "metadata": {
        "id": "BB4VlSvNkC19",
        "colab": {
          "base_uri": "https://localhost:8080/",
          "height": 424
        },
        "outputId": "a384ee31-d88e-4f5e-e303-a68ab214867c"
      },
      "source": [
        "#eliminar columna\n",
        "datos=datos.drop(['Id'],axis=1)\n",
        "datos"
      ],
      "execution_count": 15,
      "outputs": [
        {
          "output_type": "execute_result",
          "data": {
            "text/html": [
              "<div>\n",
              "<style scoped>\n",
              "    .dataframe tbody tr th:only-of-type {\n",
              "        vertical-align: middle;\n",
              "    }\n",
              "\n",
              "    .dataframe tbody tr th {\n",
              "        vertical-align: top;\n",
              "    }\n",
              "\n",
              "    .dataframe thead th {\n",
              "        text-align: right;\n",
              "    }\n",
              "</style>\n",
              "<table border=\"1\" class=\"dataframe\">\n",
              "  <thead>\n",
              "    <tr style=\"text-align: right;\">\n",
              "      <th></th>\n",
              "      <th>Nombre</th>\n",
              "      <th>Edad</th>\n",
              "      <th>Clase</th>\n",
              "      <th>Sexo</th>\n",
              "      <th>Familia</th>\n",
              "      <th>Embarcacion</th>\n",
              "      <th>Sobrevivientes</th>\n",
              "    </tr>\n",
              "  </thead>\n",
              "  <tbody>\n",
              "    <tr>\n",
              "      <th>0</th>\n",
              "      <td>Dooley, Mr. Patrick</td>\n",
              "      <td>32.0</td>\n",
              "      <td>3</td>\n",
              "      <td>male</td>\n",
              "      <td>0</td>\n",
              "      <td>Q</td>\n",
              "      <td>muere</td>\n",
              "    </tr>\n",
              "    <tr>\n",
              "      <th>1</th>\n",
              "      <td>Behr, Mr. Karl Howell</td>\n",
              "      <td>26.0</td>\n",
              "      <td>1</td>\n",
              "      <td>male</td>\n",
              "      <td>0</td>\n",
              "      <td>C</td>\n",
              "      <td>vive</td>\n",
              "    </tr>\n",
              "    <tr>\n",
              "      <th>2</th>\n",
              "      <td>Graham, Miss. Margaret Edith</td>\n",
              "      <td>19.0</td>\n",
              "      <td>1</td>\n",
              "      <td>female</td>\n",
              "      <td>0</td>\n",
              "      <td>S</td>\n",
              "      <td>vive</td>\n",
              "    </tr>\n",
              "    <tr>\n",
              "      <th>3</th>\n",
              "      <td>Montvila, Rev. Juozas</td>\n",
              "      <td>27.0</td>\n",
              "      <td>2</td>\n",
              "      <td>male</td>\n",
              "      <td>0</td>\n",
              "      <td>S</td>\n",
              "      <td>muere</td>\n",
              "    </tr>\n",
              "    <tr>\n",
              "      <th>4</th>\n",
              "      <td>Rice, Mrs. William (Margaret Norton)</td>\n",
              "      <td>39.0</td>\n",
              "      <td>3</td>\n",
              "      <td>female</td>\n",
              "      <td>5</td>\n",
              "      <td>Q</td>\n",
              "      <td>muere</td>\n",
              "    </tr>\n",
              "    <tr>\n",
              "      <th>...</th>\n",
              "      <td>...</td>\n",
              "      <td>...</td>\n",
              "      <td>...</td>\n",
              "      <td>...</td>\n",
              "      <td>...</td>\n",
              "      <td>...</td>\n",
              "      <td>...</td>\n",
              "    </tr>\n",
              "    <tr>\n",
              "      <th>709</th>\n",
              "      <td>Allen, Mr. William Henry</td>\n",
              "      <td>35.0</td>\n",
              "      <td>3</td>\n",
              "      <td>male</td>\n",
              "      <td>0</td>\n",
              "      <td>S</td>\n",
              "      <td>muere</td>\n",
              "    </tr>\n",
              "    <tr>\n",
              "      <th>710</th>\n",
              "      <td>Futrelle, Mrs. Jacques Heath (Lily May Peel)</td>\n",
              "      <td>35.0</td>\n",
              "      <td>1</td>\n",
              "      <td>female</td>\n",
              "      <td>1</td>\n",
              "      <td>S</td>\n",
              "      <td>vive</td>\n",
              "    </tr>\n",
              "    <tr>\n",
              "      <th>711</th>\n",
              "      <td>Heikkinen, Miss. Laina</td>\n",
              "      <td>26.0</td>\n",
              "      <td>3</td>\n",
              "      <td>female</td>\n",
              "      <td>0</td>\n",
              "      <td>S</td>\n",
              "      <td>vive</td>\n",
              "    </tr>\n",
              "    <tr>\n",
              "      <th>712</th>\n",
              "      <td>Cumings, Mrs. John Bradley (Florence Briggs Th...</td>\n",
              "      <td>38.0</td>\n",
              "      <td>1</td>\n",
              "      <td>female</td>\n",
              "      <td>1</td>\n",
              "      <td>C</td>\n",
              "      <td>vive</td>\n",
              "    </tr>\n",
              "    <tr>\n",
              "      <th>713</th>\n",
              "      <td>Braund, Mr. Owen Harris</td>\n",
              "      <td>22.0</td>\n",
              "      <td>3</td>\n",
              "      <td>male</td>\n",
              "      <td>1</td>\n",
              "      <td>S</td>\n",
              "      <td>muere</td>\n",
              "    </tr>\n",
              "  </tbody>\n",
              "</table>\n",
              "<p>714 rows × 7 columns</p>\n",
              "</div>"
            ],
            "text/plain": [
              "                                                Nombre  ...  Sobrevivientes\n",
              "0                                  Dooley, Mr. Patrick  ...           muere\n",
              "1                                Behr, Mr. Karl Howell  ...            vive\n",
              "2                         Graham, Miss. Margaret Edith  ...            vive\n",
              "3                                Montvila, Rev. Juozas  ...           muere\n",
              "4                 Rice, Mrs. William (Margaret Norton)  ...           muere\n",
              "..                                                 ...  ...             ...\n",
              "709                           Allen, Mr. William Henry  ...           muere\n",
              "710       Futrelle, Mrs. Jacques Heath (Lily May Peel)  ...            vive\n",
              "711                             Heikkinen, Miss. Laina  ...            vive\n",
              "712  Cumings, Mrs. John Bradley (Florence Briggs Th...  ...            vive\n",
              "713                            Braund, Mr. Owen Harris  ...           muere\n",
              "\n",
              "[714 rows x 7 columns]"
            ]
          },
          "metadata": {},
          "execution_count": 15
        }
      ]
    },
    {
      "cell_type": "code",
      "metadata": {
        "id": "kx25jC3ivPJo",
        "colab": {
          "base_uri": "https://localhost:8080/",
          "height": 424
        },
        "outputId": "a0410555-78f8-4f00-b4d7-ec4a9bff18e1"
      },
      "source": [
        "#eliminar varias columnas\n",
        "datos=datos.drop(['Nombre',\"Familia\",'Embarcacion'],axis=1)\n",
        "datos"
      ],
      "execution_count": 16,
      "outputs": [
        {
          "output_type": "execute_result",
          "data": {
            "text/html": [
              "<div>\n",
              "<style scoped>\n",
              "    .dataframe tbody tr th:only-of-type {\n",
              "        vertical-align: middle;\n",
              "    }\n",
              "\n",
              "    .dataframe tbody tr th {\n",
              "        vertical-align: top;\n",
              "    }\n",
              "\n",
              "    .dataframe thead th {\n",
              "        text-align: right;\n",
              "    }\n",
              "</style>\n",
              "<table border=\"1\" class=\"dataframe\">\n",
              "  <thead>\n",
              "    <tr style=\"text-align: right;\">\n",
              "      <th></th>\n",
              "      <th>Edad</th>\n",
              "      <th>Clase</th>\n",
              "      <th>Sexo</th>\n",
              "      <th>Sobrevivientes</th>\n",
              "    </tr>\n",
              "  </thead>\n",
              "  <tbody>\n",
              "    <tr>\n",
              "      <th>0</th>\n",
              "      <td>32.0</td>\n",
              "      <td>3</td>\n",
              "      <td>male</td>\n",
              "      <td>muere</td>\n",
              "    </tr>\n",
              "    <tr>\n",
              "      <th>1</th>\n",
              "      <td>26.0</td>\n",
              "      <td>1</td>\n",
              "      <td>male</td>\n",
              "      <td>vive</td>\n",
              "    </tr>\n",
              "    <tr>\n",
              "      <th>2</th>\n",
              "      <td>19.0</td>\n",
              "      <td>1</td>\n",
              "      <td>female</td>\n",
              "      <td>vive</td>\n",
              "    </tr>\n",
              "    <tr>\n",
              "      <th>3</th>\n",
              "      <td>27.0</td>\n",
              "      <td>2</td>\n",
              "      <td>male</td>\n",
              "      <td>muere</td>\n",
              "    </tr>\n",
              "    <tr>\n",
              "      <th>4</th>\n",
              "      <td>39.0</td>\n",
              "      <td>3</td>\n",
              "      <td>female</td>\n",
              "      <td>muere</td>\n",
              "    </tr>\n",
              "    <tr>\n",
              "      <th>...</th>\n",
              "      <td>...</td>\n",
              "      <td>...</td>\n",
              "      <td>...</td>\n",
              "      <td>...</td>\n",
              "    </tr>\n",
              "    <tr>\n",
              "      <th>709</th>\n",
              "      <td>35.0</td>\n",
              "      <td>3</td>\n",
              "      <td>male</td>\n",
              "      <td>muere</td>\n",
              "    </tr>\n",
              "    <tr>\n",
              "      <th>710</th>\n",
              "      <td>35.0</td>\n",
              "      <td>1</td>\n",
              "      <td>female</td>\n",
              "      <td>vive</td>\n",
              "    </tr>\n",
              "    <tr>\n",
              "      <th>711</th>\n",
              "      <td>26.0</td>\n",
              "      <td>3</td>\n",
              "      <td>female</td>\n",
              "      <td>vive</td>\n",
              "    </tr>\n",
              "    <tr>\n",
              "      <th>712</th>\n",
              "      <td>38.0</td>\n",
              "      <td>1</td>\n",
              "      <td>female</td>\n",
              "      <td>vive</td>\n",
              "    </tr>\n",
              "    <tr>\n",
              "      <th>713</th>\n",
              "      <td>22.0</td>\n",
              "      <td>3</td>\n",
              "      <td>male</td>\n",
              "      <td>muere</td>\n",
              "    </tr>\n",
              "  </tbody>\n",
              "</table>\n",
              "<p>714 rows × 4 columns</p>\n",
              "</div>"
            ],
            "text/plain": [
              "     Edad  Clase    Sexo Sobrevivientes\n",
              "0    32.0      3    male          muere\n",
              "1    26.0      1    male           vive\n",
              "2    19.0      1  female           vive\n",
              "3    27.0      2    male          muere\n",
              "4    39.0      3  female          muere\n",
              "..    ...    ...     ...            ...\n",
              "709  35.0      3    male          muere\n",
              "710  35.0      1  female           vive\n",
              "711  26.0      3  female           vive\n",
              "712  38.0      1  female           vive\n",
              "713  22.0      3    male          muere\n",
              "\n",
              "[714 rows x 4 columns]"
            ]
          },
          "metadata": {},
          "execution_count": 16
        }
      ]
    },
    {
      "cell_type": "code",
      "metadata": {
        "id": "cwsl0Oi6j8b_",
        "colab": {
          "base_uri": "https://localhost:8080/",
          "height": 300
        },
        "outputId": "87e298f3-be2e-4eec-8a9d-6d342f8dacf0"
      },
      "source": [
        "datos.describe() #descriptivos"
      ],
      "execution_count": 17,
      "outputs": [
        {
          "output_type": "execute_result",
          "data": {
            "text/html": [
              "<div>\n",
              "<style scoped>\n",
              "    .dataframe tbody tr th:only-of-type {\n",
              "        vertical-align: middle;\n",
              "    }\n",
              "\n",
              "    .dataframe tbody tr th {\n",
              "        vertical-align: top;\n",
              "    }\n",
              "\n",
              "    .dataframe thead th {\n",
              "        text-align: right;\n",
              "    }\n",
              "</style>\n",
              "<table border=\"1\" class=\"dataframe\">\n",
              "  <thead>\n",
              "    <tr style=\"text-align: right;\">\n",
              "      <th></th>\n",
              "      <th>Edad</th>\n",
              "      <th>Clase</th>\n",
              "    </tr>\n",
              "  </thead>\n",
              "  <tbody>\n",
              "    <tr>\n",
              "      <th>count</th>\n",
              "      <td>714.000000</td>\n",
              "      <td>714.000000</td>\n",
              "    </tr>\n",
              "    <tr>\n",
              "      <th>mean</th>\n",
              "      <td>29.699118</td>\n",
              "      <td>2.236695</td>\n",
              "    </tr>\n",
              "    <tr>\n",
              "      <th>std</th>\n",
              "      <td>14.526497</td>\n",
              "      <td>0.838250</td>\n",
              "    </tr>\n",
              "    <tr>\n",
              "      <th>min</th>\n",
              "      <td>0.420000</td>\n",
              "      <td>1.000000</td>\n",
              "    </tr>\n",
              "    <tr>\n",
              "      <th>25%</th>\n",
              "      <td>20.125000</td>\n",
              "      <td>1.000000</td>\n",
              "    </tr>\n",
              "    <tr>\n",
              "      <th>50%</th>\n",
              "      <td>28.000000</td>\n",
              "      <td>2.000000</td>\n",
              "    </tr>\n",
              "    <tr>\n",
              "      <th>75%</th>\n",
              "      <td>38.000000</td>\n",
              "      <td>3.000000</td>\n",
              "    </tr>\n",
              "    <tr>\n",
              "      <th>max</th>\n",
              "      <td>80.000000</td>\n",
              "      <td>3.000000</td>\n",
              "    </tr>\n",
              "  </tbody>\n",
              "</table>\n",
              "</div>"
            ],
            "text/plain": [
              "             Edad       Clase\n",
              "count  714.000000  714.000000\n",
              "mean    29.699118    2.236695\n",
              "std     14.526497    0.838250\n",
              "min      0.420000    1.000000\n",
              "25%     20.125000    1.000000\n",
              "50%     28.000000    2.000000\n",
              "75%     38.000000    3.000000\n",
              "max     80.000000    3.000000"
            ]
          },
          "metadata": {},
          "execution_count": 17
        }
      ]
    },
    {
      "cell_type": "code",
      "metadata": {
        "id": "DYOHrxwKlt4t",
        "colab": {
          "base_uri": "https://localhost:8080/",
          "height": 300
        },
        "outputId": "671fcbf7-965e-4315-c681-7cea944a0450"
      },
      "source": [
        "datos.describe().round(1) #descriptivos un decimal"
      ],
      "execution_count": 18,
      "outputs": [
        {
          "output_type": "execute_result",
          "data": {
            "text/html": [
              "<div>\n",
              "<style scoped>\n",
              "    .dataframe tbody tr th:only-of-type {\n",
              "        vertical-align: middle;\n",
              "    }\n",
              "\n",
              "    .dataframe tbody tr th {\n",
              "        vertical-align: top;\n",
              "    }\n",
              "\n",
              "    .dataframe thead th {\n",
              "        text-align: right;\n",
              "    }\n",
              "</style>\n",
              "<table border=\"1\" class=\"dataframe\">\n",
              "  <thead>\n",
              "    <tr style=\"text-align: right;\">\n",
              "      <th></th>\n",
              "      <th>Edad</th>\n",
              "      <th>Clase</th>\n",
              "    </tr>\n",
              "  </thead>\n",
              "  <tbody>\n",
              "    <tr>\n",
              "      <th>count</th>\n",
              "      <td>714.0</td>\n",
              "      <td>714.0</td>\n",
              "    </tr>\n",
              "    <tr>\n",
              "      <th>mean</th>\n",
              "      <td>29.7</td>\n",
              "      <td>2.2</td>\n",
              "    </tr>\n",
              "    <tr>\n",
              "      <th>std</th>\n",
              "      <td>14.5</td>\n",
              "      <td>0.8</td>\n",
              "    </tr>\n",
              "    <tr>\n",
              "      <th>min</th>\n",
              "      <td>0.4</td>\n",
              "      <td>1.0</td>\n",
              "    </tr>\n",
              "    <tr>\n",
              "      <th>25%</th>\n",
              "      <td>20.1</td>\n",
              "      <td>1.0</td>\n",
              "    </tr>\n",
              "    <tr>\n",
              "      <th>50%</th>\n",
              "      <td>28.0</td>\n",
              "      <td>2.0</td>\n",
              "    </tr>\n",
              "    <tr>\n",
              "      <th>75%</th>\n",
              "      <td>38.0</td>\n",
              "      <td>3.0</td>\n",
              "    </tr>\n",
              "    <tr>\n",
              "      <th>max</th>\n",
              "      <td>80.0</td>\n",
              "      <td>3.0</td>\n",
              "    </tr>\n",
              "  </tbody>\n",
              "</table>\n",
              "</div>"
            ],
            "text/plain": [
              "        Edad  Clase\n",
              "count  714.0  714.0\n",
              "mean    29.7    2.2\n",
              "std     14.5    0.8\n",
              "min      0.4    1.0\n",
              "25%     20.1    1.0\n",
              "50%     28.0    2.0\n",
              "75%     38.0    3.0\n",
              "max     80.0    3.0"
            ]
          },
          "metadata": {},
          "execution_count": 18
        }
      ]
    },
    {
      "cell_type": "code",
      "metadata": {
        "id": "6w4BIKQ2l5cm",
        "colab": {
          "base_uri": "https://localhost:8080/",
          "height": 81
        },
        "outputId": "e334d6ee-c96a-4fad-aa18-cbe93520af22"
      },
      "source": [
        "datos.describe().round(1).transpose() #descriptivos un decimal y transpuesto"
      ],
      "execution_count": 24,
      "outputs": [
        {
          "output_type": "execute_result",
          "data": {
            "text/html": [
              "<div>\n",
              "<style scoped>\n",
              "    .dataframe tbody tr th:only-of-type {\n",
              "        vertical-align: middle;\n",
              "    }\n",
              "\n",
              "    .dataframe tbody tr th {\n",
              "        vertical-align: top;\n",
              "    }\n",
              "\n",
              "    .dataframe thead th {\n",
              "        text-align: right;\n",
              "    }\n",
              "</style>\n",
              "<table border=\"1\" class=\"dataframe\">\n",
              "  <thead>\n",
              "    <tr style=\"text-align: right;\">\n",
              "      <th></th>\n",
              "      <th>count</th>\n",
              "      <th>mean</th>\n",
              "      <th>std</th>\n",
              "      <th>min</th>\n",
              "      <th>25%</th>\n",
              "      <th>50%</th>\n",
              "      <th>75%</th>\n",
              "      <th>max</th>\n",
              "    </tr>\n",
              "  </thead>\n",
              "  <tbody>\n",
              "    <tr>\n",
              "      <th>Edad</th>\n",
              "      <td>714.0</td>\n",
              "      <td>29.7</td>\n",
              "      <td>14.5</td>\n",
              "      <td>0.4</td>\n",
              "      <td>20.1</td>\n",
              "      <td>28.0</td>\n",
              "      <td>38.0</td>\n",
              "      <td>80.0</td>\n",
              "    </tr>\n",
              "  </tbody>\n",
              "</table>\n",
              "</div>"
            ],
            "text/plain": [
              "      count  mean   std  min   25%   50%   75%   max\n",
              "Edad  714.0  29.7  14.5  0.4  20.1  28.0  38.0  80.0"
            ]
          },
          "metadata": {},
          "execution_count": 24
        }
      ]
    },
    {
      "cell_type": "code",
      "source": [
        "datos.Clase=pd.Categorical(datos[\"Clase\"]) #Transformamos en cateorica"
      ],
      "metadata": {
        "id": "UZ2fZ5--F2i1"
      },
      "execution_count": 21,
      "outputs": []
    },
    {
      "cell_type": "code",
      "metadata": {
        "id": "AyuPiwDfwY9m",
        "colab": {
          "base_uri": "https://localhost:8080/"
        },
        "outputId": "1c4e3117-ed17-4954-ca4b-c28813a9c6a3"
      },
      "source": [
        "datos.info() #vemos que la variable ya es categorica "
      ],
      "execution_count": 23,
      "outputs": [
        {
          "output_type": "stream",
          "name": "stdout",
          "text": [
            "<class 'pandas.core.frame.DataFrame'>\n",
            "RangeIndex: 714 entries, 0 to 713\n",
            "Data columns (total 4 columns):\n",
            " #   Column          Non-Null Count  Dtype   \n",
            "---  ------          --------------  -----   \n",
            " 0   Edad            714 non-null    float64 \n",
            " 1   Clase           714 non-null    category\n",
            " 2   Sexo            714 non-null    object  \n",
            " 3   Sobrevivientes  714 non-null    object  \n",
            "dtypes: category(1), float64(1), object(2)\n",
            "memory usage: 17.7+ KB\n"
          ]
        }
      ]
    },
    {
      "cell_type": "code",
      "source": [
        "datos.describe().round(1).transpose() #como Clase ya es categórica ya no aparecen sus descriptivos"
      ],
      "metadata": {
        "colab": {
          "base_uri": "https://localhost:8080/",
          "height": 81
        },
        "id": "kYyrrM_FFbtd",
        "outputId": "2db788ad-4b9e-46a7-cb0d-f1bb9ab07685"
      },
      "execution_count": 25,
      "outputs": [
        {
          "output_type": "execute_result",
          "data": {
            "text/html": [
              "<div>\n",
              "<style scoped>\n",
              "    .dataframe tbody tr th:only-of-type {\n",
              "        vertical-align: middle;\n",
              "    }\n",
              "\n",
              "    .dataframe tbody tr th {\n",
              "        vertical-align: top;\n",
              "    }\n",
              "\n",
              "    .dataframe thead th {\n",
              "        text-align: right;\n",
              "    }\n",
              "</style>\n",
              "<table border=\"1\" class=\"dataframe\">\n",
              "  <thead>\n",
              "    <tr style=\"text-align: right;\">\n",
              "      <th></th>\n",
              "      <th>count</th>\n",
              "      <th>mean</th>\n",
              "      <th>std</th>\n",
              "      <th>min</th>\n",
              "      <th>25%</th>\n",
              "      <th>50%</th>\n",
              "      <th>75%</th>\n",
              "      <th>max</th>\n",
              "    </tr>\n",
              "  </thead>\n",
              "  <tbody>\n",
              "    <tr>\n",
              "      <th>Edad</th>\n",
              "      <td>714.0</td>\n",
              "      <td>29.7</td>\n",
              "      <td>14.5</td>\n",
              "      <td>0.4</td>\n",
              "      <td>20.1</td>\n",
              "      <td>28.0</td>\n",
              "      <td>38.0</td>\n",
              "      <td>80.0</td>\n",
              "    </tr>\n",
              "  </tbody>\n",
              "</table>\n",
              "</div>"
            ],
            "text/plain": [
              "      count  mean   std  min   25%   50%   75%   max\n",
              "Edad  714.0  29.7  14.5  0.4  20.1  28.0  38.0  80.0"
            ]
          },
          "metadata": {},
          "execution_count": 25
        }
      ]
    },
    {
      "cell_type": "code",
      "metadata": {
        "id": "5CvdUwciyh8A",
        "colab": {
          "base_uri": "https://localhost:8080/"
        },
        "outputId": "2ac9335b-4383-418b-e374-305aeb074c9c"
      },
      "source": [
        "# Medidas de tendencia central\n",
        "media = datos[\"Edad\"].mean()\n",
        "mediana = datos[\"Edad\"].median()\n",
        "moda = datos[\"Edad\"].mode()\n",
        "print(\"\"\"\n",
        "    Media: %d\n",
        "    Mediana: %d\n",
        "    Moda: %d\n",
        "\"\"\" % (media,mediana,moda))"
      ],
      "execution_count": 26,
      "outputs": [
        {
          "output_type": "stream",
          "name": "stdout",
          "text": [
            "\n",
            "    Media: 29\n",
            "    Mediana: 28\n",
            "    Moda: 24\n",
            "\n"
          ]
        }
      ]
    },
    {
      "cell_type": "code",
      "metadata": {
        "id": "5rMpFGfQH_Mg"
      },
      "source": [
        "#estadísticos por grupo\n",
        "agrupados_datos = datos.groupby('Sexo')\n",
        "agrupados_datos.describe().round(1).transpose()"
      ],
      "execution_count": null,
      "outputs": []
    },
    {
      "cell_type": "code",
      "metadata": {
        "id": "f2dimFnKLhIb"
      },
      "source": [
        "agrupados_datos = datos[['Edad']]\n",
        "agrupados_datos = datos.groupby('Sexo')\n",
        "agrupados_datos.describe().round(1).transpose()"
      ],
      "execution_count": null,
      "outputs": []
    },
    {
      "cell_type": "code",
      "metadata": {
        "id": "RFDdOuI90eGn"
      },
      "source": [
        "#define la función para calcular cv \n",
        "cv = lambda x: np. std (x, ddof = 1 ) / np. mean (x) * 100 "
      ],
      "execution_count": null,
      "outputs": []
    },
    {
      "cell_type": "code",
      "metadata": {
        "id": "DVPZv_MU1AWv"
      },
      "source": [
        " #calcular CV\n",
        " cv (datos)"
      ],
      "execution_count": null,
      "outputs": []
    },
    {
      "cell_type": "code",
      "metadata": {
        "id": "e9wGdt0p69TA"
      },
      "source": [
        "ax=sns.boxenplot(x=\"Sexo\", y=\"Edad\", data=datos)\n",
        "print(ax)"
      ],
      "execution_count": null,
      "outputs": []
    },
    {
      "cell_type": "code",
      "metadata": {
        "id": "mMVSAMbe7GCD"
      },
      "source": [
        "ax=sns.boxenplot(x=\"Sexo\", y=\"Edad\", data=datos)\n",
        "ax =sns.stripplot(x=\"Sexo\", y=\"Edad\", data=datos, size=3, jitter=True, color=\"black\")\n",
        "print(ax)"
      ],
      "execution_count": null,
      "outputs": []
    },
    {
      "cell_type": "code",
      "metadata": {
        "id": "ot7WVnkN9K7y"
      },
      "source": [
        "plt.figure(figsize=(10,5)) #tamaño figura x, y\n",
        "ax=sns.boxenplot(x=\"Sexo\", y=\"Edad\", data=datos)\n",
        "ax =sns.stripplot(x=\"Sexo\", y=\"Edad\", data=datos, size=3, jitter=True, color=\"black\")\n",
        "print(ax)"
      ],
      "execution_count": null,
      "outputs": []
    },
    {
      "cell_type": "code",
      "metadata": {
        "id": "sJXccN_59gaJ"
      },
      "source": [
        "plt.figure(figsize=(8,6)) #tamaño figura x, y\n",
        "ax=sns.boxenplot(x=\"Edad\", y=\"Sexo\", data=datos)\n",
        "ax =sns.stripplot(x=\"Edad\", y=\"Sexo\", data=datos, size=3, jitter=True, color=\"black\")\n",
        "print(ax)"
      ],
      "execution_count": null,
      "outputs": []
    },
    {
      "cell_type": "code",
      "metadata": {
        "id": "i-L-p8gB_Muo"
      },
      "source": [
        "ax = sns.boxplot(x=\"Edad\", data=datos)"
      ],
      "execution_count": null,
      "outputs": []
    },
    {
      "cell_type": "code",
      "metadata": {
        "id": "INilIyBM_amA"
      },
      "source": [
        "ax = sns.boxplot(x=\"Edad\", data=datos,color=\"White\")"
      ],
      "execution_count": null,
      "outputs": []
    },
    {
      "cell_type": "code",
      "metadata": {
        "id": "O5RnX3li_h7f"
      },
      "source": [
        "ax = sns.boxplot(x=\"Edad\" , y=\"Sexo\", data=datos,color=\"White\")"
      ],
      "execution_count": null,
      "outputs": []
    },
    {
      "cell_type": "code",
      "metadata": {
        "id": "MokDy_M3_sT4"
      },
      "source": [
        "plt.figure(figsize=(8,6)) #tamaño figura x, y\n",
        "ax = sns.boxplot(x=\"Edad\" , y=\"Sexo\", data=datos,color=\"White\")"
      ],
      "execution_count": null,
      "outputs": []
    },
    {
      "cell_type": "code",
      "metadata": {
        "id": "b0JjeYESADQg"
      },
      "source": [
        "plt.figure(figsize=(8,6)) #tamaño figura x, y\n",
        "ax = sns.boxplot(x=\"Edad\" , y=\"Sexo\", data=datos,color=\"White\")\n",
        "ax =sns.stripplot(x=\"Edad\", y=\"Sexo\", data=datos, size=3, jitter=True, color=\"black\")"
      ],
      "execution_count": null,
      "outputs": []
    },
    {
      "cell_type": "code",
      "metadata": {
        "id": "Bp4i6tCkAYzX"
      },
      "source": [
        "plt.figure(figsize=(8,6)) #tamaño figura x, y\n",
        "ax = sns.boxplot(x=\"Edad\" , y=\"Sexo\", data=datos,color=\"White\")\n",
        "ax =sns.swarmplot(x=\"Edad\", y=\"Sexo\", data=datos)\n",
        "print(ax)"
      ],
      "execution_count": null,
      "outputs": []
    },
    {
      "cell_type": "code",
      "metadata": {
        "id": "vX14X1ksA_OK"
      },
      "source": [
        "plt.figure(figsize=(8,6)) #tamaño figura x, y\n",
        "ax = sns.boxplot(x=\"Edad\"  ,data=datos,color=\"White\")\n",
        "ax =sns.swarmplot(x=\"Edad\", data=datos)\n",
        "print(ax)"
      ],
      "execution_count": null,
      "outputs": []
    },
    {
      "cell_type": "code",
      "metadata": {
        "id": "lyAr45iHB5wf"
      },
      "source": [
        "plt.figure(figsize=(8,6)) #tamaño figura x, y\n",
        "ax = sns.boxplot(x=\"Edad\"  ,data=datos,color=\"White\")\n",
        "ax =sns.swarmplot(x=\"Edad\", data=datos)\n",
        "ax.text(29,-0.4, \"media 29\", weight=\"bold\",size=12,ha='center')#color=\"green\"\n",
        "print(ax)"
      ],
      "execution_count": null,
      "outputs": []
    },
    {
      "cell_type": "code",
      "metadata": {
        "id": "PNvkVCoOCI7x"
      },
      "source": [
        "plt.figure(figsize=(8,6)) #tamaño figura x, y\n",
        "ax = sns.boxplot(x=\"Edad\"  ,data=datos,color=\"White\")\n",
        "#ax =sns.swarmplot(x=\"Edad\", data=datos)\n",
        "ax.text(29,0, \"X\", weight=\"bold\",size=12,ha='center')#color=\"green\"\n",
        "print(ax)"
      ],
      "execution_count": null,
      "outputs": []
    },
    {
      "cell_type": "code",
      "metadata": {
        "id": "swZzP7pMCqUa"
      },
      "source": [
        "plt.figure(figsize=(8,6)) #tamaño figura x, y\n",
        "ax = sns.boxplot(x=\"Edad\"  ,data=datos,color=\"White\")\n",
        "ax =sns.swarmplot(x=\"Edad\", data=datos)\n",
        "ax.text(29,0, \"X\", weight=\"bold\",size=12,ha='center')#color=\"green\"\n",
        "print(ax)"
      ],
      "execution_count": null,
      "outputs": []
    },
    {
      "cell_type": "code",
      "metadata": {
        "id": "jEpnF4ZsCyvA"
      },
      "source": [
        "plt.figure(figsize=(8,6)) #tamaño figura x, y\n",
        "ax = sns.boxplot(x=\"Edad\"  ,data=datos,color=\"White\")\n",
        "ax =sns.swarmplot(x=\"Edad\", data=datos,color=\"green\", size=6)\n",
        "ax.text(29,0, \"X\", weight=\"bold\",size=12,ha='center')#color=\"green\"\n",
        "print(ax)"
      ],
      "execution_count": null,
      "outputs": []
    },
    {
      "cell_type": "code",
      "metadata": {
        "id": "X_Aiu6PYt7Q5"
      },
      "source": [
        "plt.figure(figsize=(6,8)) #tamaño figura x, y\n",
        "ax = sns.boxplot(y=\"Edad\"  ,data=datos,color=\"White\")\n",
        "ax =sns.swarmplot(y=\"Edad\", data=datos,color=\"green\", size=6)\n",
        "ax.text(0,29, \"X\", weight=\"bold\",size=12,ha='center')#color=\"green\"\n",
        "print(ax)"
      ],
      "execution_count": null,
      "outputs": []
    },
    {
      "cell_type": "code",
      "metadata": {
        "id": "LcBA0F2arRdq"
      },
      "source": [
        "sns.displot(datos[\"Edad\"],bins=50)"
      ],
      "execution_count": null,
      "outputs": []
    },
    {
      "cell_type": "code",
      "metadata": {
        "id": "MyuGddtRrxp6"
      },
      "source": [
        "sns.displot(datos[\"Edad\"][datos.Sexo==\"female\"], bins=50)"
      ],
      "execution_count": null,
      "outputs": []
    },
    {
      "cell_type": "code",
      "metadata": {
        "id": "mJ39yCWMsAPb"
      },
      "source": [
        "sns.displot(datos[\"Edad\"][datos.Sexo==\"male\"], bins=50)"
      ],
      "execution_count": null,
      "outputs": []
    },
    {
      "cell_type": "code",
      "metadata": {
        "id": "0o1wGN52sIGq"
      },
      "source": [
        "ax=sns.displot(datos[\"Edad\"][datos.Sexo==\"male\"], bins=50)\n",
        "ax=sns.displot(datos[\"Edad\"][datos.Sexo==\"female\"], bins=50)"
      ],
      "execution_count": null,
      "outputs": []
    },
    {
      "cell_type": "code",
      "metadata": {
        "id": "pBRb0dIvjMHG"
      },
      "source": [
        "ax=sns.displot(datos[\"Edad\"],color=\"y\")"
      ],
      "execution_count": null,
      "outputs": []
    },
    {
      "cell_type": "code",
      "metadata": {
        "id": "kHc-W9rHmqBn"
      },
      "source": [
        "ax=sns.displot(datos[\"Edad\"],color=\"y\",kind=\"kde\")"
      ],
      "execution_count": null,
      "outputs": []
    },
    {
      "cell_type": "code",
      "metadata": {
        "id": "z21Yhygjm1iu"
      },
      "source": [
        "ax=sns.displot(datos[\"Edad\"],color=\"y\")\n",
        "ax=sns.displot(datos[\"Edad\"],color=\"r\",kind=\"kde\")\n",
        "print(ax)"
      ],
      "execution_count": null,
      "outputs": []
    },
    {
      "cell_type": "code",
      "metadata": {
        "id": "TmIOzvWJnXm2"
      },
      "source": [
        "sns.displot(datos[\"Edad\"], kde=True)"
      ],
      "execution_count": null,
      "outputs": []
    },
    {
      "cell_type": "code",
      "metadata": {
        "id": "lFk30xgHnn_O"
      },
      "source": [
        "sns.displot(datos[\"Edad\"], kde=True, bins=50,color=\"green\")"
      ],
      "execution_count": null,
      "outputs": []
    },
    {
      "cell_type": "code",
      "metadata": {
        "id": "8KKqFQrioEB-"
      },
      "source": [
        "ax=sns.displot(datos[\"Edad\"][datos.Sexo==\"male\"], bins=50,kde=True)"
      ],
      "execution_count": null,
      "outputs": []
    },
    {
      "cell_type": "code",
      "metadata": {
        "id": "bTJpECL5oLy_"
      },
      "source": [
        "ax=sns.displot(datos[\"Edad\"][datos.Sexo==\"male\"], bins=50,kde=True)\n",
        "ax=sns.displot(datos[\"Edad\"][datos.Sexo==\"female\"], bins=50,kde=True)"
      ],
      "execution_count": null,
      "outputs": []
    },
    {
      "cell_type": "code",
      "metadata": {
        "id": "WrzzyxKBo1v-"
      },
      "source": [
        "sns.histplot(\n",
        "    datos,\n",
        "    x=\"Edad\", hue=\"Sexo\",\n",
        "    multiple=\"stack\",\n",
        "    palette=\"light:m_r\",\n",
        "    edgecolor=\".3\",\n",
        "    linewidth=.5,\n",
        "    log_scale=True,\n",
        ")"
      ],
      "execution_count": null,
      "outputs": []
    },
    {
      "cell_type": "code",
      "metadata": {
        "id": "dxJqzFAGpcO2"
      },
      "source": [
        "sns.histplot(\n",
        "    datos,\n",
        "    x=\"Edad\", hue=\"Sexo\",\n",
        "    multiple=\"stack\",\n",
        "    palette=\"light:m_r\",\n",
        "    edgecolor=\".3\",\n",
        "    linewidth=.5,\n",
        "    log_scale=False,\n",
        ")"
      ],
      "execution_count": null,
      "outputs": []
    },
    {
      "cell_type": "code",
      "metadata": {
        "id": "NfHgaHepq64Q"
      },
      "source": [
        "sns.histplot(\n",
        "    datos,\n",
        "    x=\"Edad\", hue=\"Sobrevivientes\",\n",
        "    multiple=\"stack\",\n",
        "    palette=\"light:m_r\",\n",
        "    edgecolor=\".3\",\n",
        "    linewidth=.5,\n",
        "    log_scale=False,\n",
        ")"
      ],
      "execution_count": null,
      "outputs": []
    },
    {
      "cell_type": "code",
      "metadata": {
        "id": "EHarjTgDr2Qw"
      },
      "source": [
        "sns.histplot(\n",
        "    datos,\n",
        "    x=\"Edad\", hue=\"Clase\",\n",
        "    multiple=\"stack\",\n",
        "    palette=\"light:m_r\",\n",
        "    edgecolor=\".3\",\n",
        "    linewidth=.5,\n",
        "    log_scale=False,\n",
        ")"
      ],
      "execution_count": null,
      "outputs": []
    },
    {
      "cell_type": "code",
      "source": [
        "sns.barplot(x=\"Sexo\",y=\"Edad\",data=datos)"
      ],
      "metadata": {
        "id": "DNkfLn3P-YGm"
      },
      "execution_count": null,
      "outputs": []
    },
    {
      "cell_type": "code",
      "source": [
        "sns.barplot(x=\"Clase\",y=\"Edad\",data=datos)"
      ],
      "metadata": {
        "id": "3MZOO7U_-yG5"
      },
      "execution_count": null,
      "outputs": []
    },
    {
      "cell_type": "code",
      "source": [
        "sns.countplot(x=\"Sexo\",data=datos)"
      ],
      "metadata": {
        "id": "xM03QME5-426"
      },
      "execution_count": null,
      "outputs": []
    },
    {
      "cell_type": "code",
      "source": [
        "sns.countplot(datos[\"Sexo\"])"
      ],
      "metadata": {
        "id": "gJ5RhjlM_Ioz"
      },
      "execution_count": null,
      "outputs": []
    },
    {
      "cell_type": "code",
      "source": [
        "sns.violinplot(datos[\"Edad\"])"
      ],
      "metadata": {
        "id": "_hA0gtQk_Yis"
      },
      "execution_count": null,
      "outputs": []
    },
    {
      "cell_type": "code",
      "source": [
        "sns.violinplot(datos[\"Edad\"][datos.Sexo==\"male\"],color=\"red\")\n",
        "sns.violinplot(datos[\"Edad\"][datos.Sexo==\"female\"])"
      ],
      "metadata": {
        "id": "g4uQy3MJAWWc"
      },
      "execution_count": null,
      "outputs": []
    },
    {
      "cell_type": "code",
      "source": [
        "sns.violinplot(x=\"Edad\", y=\"Sexo\", data=datos)"
      ],
      "metadata": {
        "id": "TKaGFjaxDTi9"
      },
      "execution_count": null,
      "outputs": []
    },
    {
      "cell_type": "code",
      "source": [
        "sns.violinplot(x=\"Sexo\", y=\"Edad\", data=datos)"
      ],
      "metadata": {
        "id": "VdMxS-qHDb-R"
      },
      "execution_count": null,
      "outputs": []
    },
    {
      "cell_type": "code",
      "source": [
        "sns.violinplot(x=\"Sexo\", y=\"Edad\",hue=\"Clase\", data=datos)"
      ],
      "metadata": {
        "id": "28EV1ajQDhpR"
      },
      "execution_count": null,
      "outputs": []
    },
    {
      "cell_type": "code",
      "source": [
        "sns.violinplot(x=\"Clase\", y=\"Edad\",hue=\"Sexo\", data=datos)"
      ],
      "metadata": {
        "id": "yyRs6QE3DoVV"
      },
      "execution_count": null,
      "outputs": []
    },
    {
      "cell_type": "code",
      "source": [
        "ax = sns.violinplot(x=\"Clase\", y=\"Edad\", hue=\"Sexo\",\n",
        "                    data=datos, palette=\"Set2\", split=True,\n",
        "                   )"
      ],
      "metadata": {
        "id": "8AeMqp_tEk2N"
      },
      "execution_count": null,
      "outputs": []
    },
    {
      "cell_type": "code",
      "source": [
        "ax = sns.violinplot(x=\"Clase\", y=\"Edad\", hue=\"Sexo\",\n",
        "                    data=datos, palette=\"Set2\", split=True,\n",
        "                    scale=\"count\")"
      ],
      "metadata": {
        "id": "UOXCiTwaEZY9"
      },
      "execution_count": null,
      "outputs": []
    },
    {
      "cell_type": "code",
      "source": [
        "sns.catplot(x=\"Clase\", y=\"Edad\", hue=\"Sexo\",\n",
        "                    data=datos)"
      ],
      "metadata": {
        "id": "tO6YzqQrGMqi"
      },
      "execution_count": null,
      "outputs": []
    },
    {
      "cell_type": "code",
      "source": [
        "sns.kdeplot(datos[\"Edad\"][datos.Sexo==\"male\"],color=\"red\")\n",
        "sns.kdeplot(datos[\"Edad\"][datos.Sexo==\"female\"],color=\"blue\")"
      ],
      "metadata": {
        "id": "Isx1f0X8Bgy7"
      },
      "execution_count": null,
      "outputs": []
    },
    {
      "cell_type": "code",
      "source": [
        "datos[\"Sexo\"].value_counts()"
      ],
      "metadata": {
        "id": "NYfr0lYfJ5Lj"
      },
      "execution_count": null,
      "outputs": []
    },
    {
      "cell_type": "code",
      "source": [
        "datos[\"Clase\"].value_counts()"
      ],
      "metadata": {
        "id": "O1hu5WUVKBK2"
      },
      "execution_count": null,
      "outputs": []
    },
    {
      "cell_type": "code",
      "source": [
        "datos.groupby(\"Clase\")[\"Edad\"].mean()\n",
        "#direfentes medias\n",
        "#https://docs.python.org/es/3.8/library/statistics.html"
      ],
      "metadata": {
        "id": "Bf1ddQmJKT6I"
      },
      "execution_count": null,
      "outputs": []
    },
    {
      "cell_type": "code",
      "source": [
        "datos.groupby(\"Clase\")[\"Edad\"].median()"
      ],
      "metadata": {
        "id": "YTxDP63eLLzU"
      },
      "execution_count": null,
      "outputs": []
    },
    {
      "cell_type": "code",
      "source": [
        "datos[\"Edad\"].mean()"
      ],
      "metadata": {
        "id": "xYKtRQwfgxOp"
      },
      "execution_count": null,
      "outputs": []
    },
    {
      "cell_type": "code",
      "source": [
        "datos[\"Edad\"].mode()"
      ],
      "metadata": {
        "id": "YYG9FdpTNw56"
      },
      "execution_count": null,
      "outputs": []
    },
    {
      "cell_type": "code",
      "source": [
        "#varianza ddof=0 poblacional ddof=1 muestral\n",
        "datos[\"Edad\"].var(ddof=1) "
      ],
      "metadata": {
        "id": "c-Ztr_MiWheq"
      },
      "execution_count": null,
      "outputs": []
    },
    {
      "cell_type": "code",
      "source": [
        " #desviación estandar ddof=0 poblacional ddof=1 muestral\n",
        "datos[\"Edad\"].std(ddof=1)"
      ],
      "metadata": {
        "id": "vzc8HeMZaIF5"
      },
      "execution_count": null,
      "outputs": []
    },
    {
      "cell_type": "code",
      "source": [
        "#coeficiente de variación\n",
        "datos[\"Edad\"].std(ddof=1) / datos[\"Edad\"].mean()"
      ],
      "metadata": {
        "id": "5D12-OwIakmq"
      },
      "execution_count": null,
      "outputs": []
    },
    {
      "cell_type": "code",
      "source": [
        "len(datos[\"Edad\"])"
      ],
      "metadata": {
        "id": "VxDJQw-ExmJ7"
      },
      "execution_count": null,
      "outputs": []
    },
    {
      "cell_type": "code",
      "source": [
        "from scipy import stats #error estandar de la media\n",
        "stats.sem(datos[\"Edad\"], ddof = 1) "
      ],
      "metadata": {
        "id": "YtRzOMXLz6z6"
      },
      "execution_count": null,
      "outputs": []
    },
    {
      "cell_type": "code",
      "source": [
        "from scipy import stats #error estandar de la media\n",
        "stats.sem(datos[\"Edad\"], ddof = 0) "
      ],
      "metadata": {
        "id": "g8F7d4wL00BW"
      },
      "execution_count": null,
      "outputs": []
    },
    {
      "cell_type": "code",
      "source": [
        "import numpy as np\n",
        "import scipy.stats as st\n",
        "\n",
        "#define sample data\n",
        "data = [12, 12, 13, 13, 15, 16, 17, 22, 23, 25, 26, 27, 28, 28, 29]\n",
        "\n",
        "#create 95% confidence interval for population mean weight\n",
        "st.t.interval(alpha=0.90, df=len(data)-1, loc=np.mean(data), scale=st.sem(data)) "
      ],
      "metadata": {
        "id": "hZxURQNW5VwU"
      },
      "execution_count": null,
      "outputs": []
    },
    {
      "cell_type": "code",
      "source": [
        "#create 95% confidence interval for population mean weight\n",
        "st.t.interval(alpha=0.95, df=len(data)-1, loc=np.mean(data), scale=st.sem(data)) "
      ],
      "metadata": {
        "id": "_mpP-lpUFpfC"
      },
      "execution_count": null,
      "outputs": []
    },
    {
      "cell_type": "code",
      "source": [
        "st.t.interval(alpha=0.99, df=len(data)-1, loc=np.mean(data), scale=st.sem(data)) "
      ],
      "metadata": {
        "id": "7dY3SZgtFjRY"
      },
      "execution_count": null,
      "outputs": []
    },
    {
      "cell_type": "code",
      "source": [
        ""
      ],
      "metadata": {
        "id": "TN5t4QH6Hx1p"
      },
      "execution_count": null,
      "outputs": []
    },
    {
      "cell_type": "code",
      "source": [
        ""
      ],
      "metadata": {
        "id": "xE2IQf_MHyJo"
      },
      "execution_count": null,
      "outputs": []
    },
    {
      "cell_type": "code",
      "source": [
        "st.t.interval(alpha=0.90, df=len(datos[\"Edad\"])-1, loc=np.mean(datos[\"Edad\"]), scale=st.sem(datos[\"Edad\"]))"
      ],
      "metadata": {
        "id": "E-sbc1lW6nOr"
      },
      "execution_count": null,
      "outputs": []
    },
    {
      "cell_type": "code",
      "source": [
        "st.t.interval(alpha=0.95, df=len(datos[\"Edad\"])-1, loc=np.mean(datos[\"Edad\"]), scale=st.sem(datos[\"Edad\"])) "
      ],
      "metadata": {
        "id": "085Cbw37FYK6"
      },
      "execution_count": null,
      "outputs": []
    },
    {
      "cell_type": "code",
      "source": [
        "st.t.interval(alpha=0.99, df=len(datos[\"Edad\"])-1, loc=np.mean(datos[\"Edad\"]), scale=st.sem(datos[\"Edad\"])) "
      ],
      "metadata": {
        "id": "rSQ0NVk-FYvZ"
      },
      "execution_count": null,
      "outputs": []
    },
    {
      "cell_type": "code",
      "source": [
        "datos.Edad.groupby(datos[\"Sexo\"]).count().plot(kind='pie')"
      ],
      "metadata": {
        "id": "6m-K3tPdPCgb"
      },
      "execution_count": null,
      "outputs": []
    },
    {
      "cell_type": "code",
      "source": [
        "datos.Edad.groupby(datos[\"Sexo\"]).count().plot(kind='pie',autopct='%1.1f%%')"
      ],
      "metadata": {
        "id": "M0MBAh8HUAkc"
      },
      "execution_count": null,
      "outputs": []
    },
    {
      "cell_type": "code",
      "source": [
        "datos.Edad.groupby(datos[\"Sexo\"]).count().plot(kind='pie',autopct='%1.0f%%')"
      ],
      "metadata": {
        "id": "X2ek8rOUUFnz"
      },
      "execution_count": null,
      "outputs": []
    },
    {
      "cell_type": "markdown",
      "source": [
        "Gráficos"
      ],
      "metadata": {
        "id": "TIV65YCOZacc"
      }
    },
    {
      "cell_type": "code",
      "source": [
        "#importamos el data frame\n",
        "url=\"https://raw.githubusercontent.com/armandovl/datasets_uno/main/atitanic.csv\"\n",
        "datos= pd.read_csv(url)\n",
        "datos.head()"
      ],
      "metadata": {
        "id": "WTUVEuoGZZyP"
      },
      "execution_count": null,
      "outputs": []
    },
    {
      "cell_type": "code",
      "source": [
        "ax = sns.boxplot(x=\"Pclass\", y=\"Age\", data=datos)\n",
        "ax = sns.stripplot(x=\"Pclass\", y=\"Age\", data=datos, jitter=True, edgecolor=\"gray\")"
      ],
      "metadata": {
        "id": "Ol4_oDkOZd2a"
      },
      "execution_count": null,
      "outputs": []
    },
    {
      "cell_type": "code",
      "source": [
        "ax = sns.boxplot(x=\"Pclass\", y=\"Age\", data=datos ,hue=\"Sex\")\n",
        "ax = sns.stripplot(x=\"Pclass\", y=\"Age\", data=datos, jitter=True, edgecolor=\"gray\" ,hue=\"Sex\")"
      ],
      "metadata": {
        "id": "L6HkOrGgZ2bD"
      },
      "execution_count": null,
      "outputs": []
    },
    {
      "cell_type": "code",
      "source": [
        "ax = sns.boxplot(x=\"Pclass\", y=\"Age\", data=datos ,hue=\"Sex\")\n",
        "ax = sns.swarmplot(x=\"Pclass\", y=\"Age\", data=datos, edgecolor=\"gray\")"
      ],
      "metadata": {
        "id": "L3vTIzG0aMbQ"
      },
      "execution_count": null,
      "outputs": []
    },
    {
      "cell_type": "code",
      "source": [
        "ax = sns.boxplot(x=\"Pclass\", y=\"Age\", data=datos ,hue=\"Sex\")\n",
        "ax = sns.swarmplot(x=\"Pclass\", y=\"Age\", data=datos, edgecolor=\"gray\",hue=\"Sex\" )"
      ],
      "metadata": {
        "id": "UZyWQv7hbNo3"
      },
      "execution_count": null,
      "outputs": []
    },
    {
      "cell_type": "code",
      "source": [
        "ax = sns.boxplot(x=\"Pclass\", y=\"Age\", data=datos ,hue=\"Sex\")\n",
        "ax = sns.swarmplot(x=\"Pclass\", y=\"Age\", data=datos, edgecolor=\"gray\",hue=\"Sex\" ,split=True)"
      ],
      "metadata": {
        "id": "cKFdbTytbQeK"
      },
      "execution_count": null,
      "outputs": []
    },
    {
      "cell_type": "code",
      "source": [
        "ax = sns.boxplot(x=\"Pclass\", y=\"Age\", data=datos ,hue=\"Sex\")\n",
        "ax = sns.stripplot(x=\"Pclass\", y=\"Age\", data=datos, jitter=True, edgecolor=\"gray\")"
      ],
      "metadata": {
        "id": "K1cWNCEJaAcD"
      },
      "execution_count": null,
      "outputs": []
    },
    {
      "cell_type": "code",
      "source": [
        "sns.kdeplot(data=datos[\"Age\"], shade=True)"
      ],
      "metadata": {
        "id": "VUKymqP8caDw"
      },
      "execution_count": null,
      "outputs": []
    },
    {
      "cell_type": "code",
      "source": [
        "#ver los valores nulos en un gráfico\n",
        "sns.heatmap(datos.isnull())\n",
        "#la edad y cabin hay varios nulos"
      ],
      "metadata": {
        "id": "PwqbV881dqlk"
      },
      "execution_count": null,
      "outputs": []
    },
    {
      "cell_type": "code",
      "source": [
        "sns.heatmap(datos.corr(), annot=True) #mapa de correlaciones"
      ],
      "metadata": {
        "id": "JGQsG0TMeEXL"
      },
      "execution_count": null,
      "outputs": []
    },
    {
      "cell_type": "code",
      "source": [
        "corr = datos.corr() \n",
        "sns.heatmap(corr, \n",
        "      xticklabels=corr.columns.values, \n",
        "      yticklabels=corr.columns.values,\n",
        "      annot=True) "
      ],
      "metadata": {
        "id": "y9JUYQj8ejiI"
      },
      "execution_count": null,
      "outputs": []
    },
    {
      "cell_type": "code",
      "source": [
        "sns.set(style=\"ticks\",font_scale=1)\n",
        "sns.pairplot(datos)"
      ],
      "metadata": {
        "id": "1YK-5ud9e1xm"
      },
      "execution_count": null,
      "outputs": []
    }
  ]
}