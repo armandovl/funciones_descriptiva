{
  "nbformat": 4,
  "nbformat_minor": 0,
  "metadata": {
    "colab": {
      "name": "tablas_distribucion_frecuencia_funcion",
      "provenance": [],
      "collapsed_sections": [],
      "authorship_tag": "ABX9TyM+3NOaH+kc+Dle3VRBZQ/9",
      "include_colab_link": true
    },
    "kernelspec": {
      "name": "python3",
      "display_name": "Python 3"
    },
    "language_info": {
      "name": "python"
    }
  },
  "cells": [
    {
      "cell_type": "markdown",
      "metadata": {
        "id": "view-in-github",
        "colab_type": "text"
      },
      "source": [
        "<a href=\"https://colab.research.google.com/github/armandovl/funciones_descriptiva/blob/main/tablas_distribucion_frecuencia_funcion.ipynb\" target=\"_parent\"><img src=\"https://colab.research.google.com/assets/colab-badge.svg\" alt=\"Open In Colab\"/></a>"
      ]
    },
    {
      "cell_type": "code",
      "execution_count": null,
      "metadata": {
        "id": "r-GAgqzXmFQ4"
      },
      "outputs": [],
      "source": [
        "## Importar las librerías de cajón\n",
        "import pandas as pd\n",
        "import numpy as np\n",
        "import matplotlib.pyplot as plt\n",
        "import seaborn as sns"
      ]
    },
    {
      "cell_type": "code",
      "source": [
        "#importamos el data frame\n",
        "titanic=sns.load_dataset(\"titanic\")\n",
        "titanic.head(4)"
      ],
      "metadata": {
        "colab": {
          "base_uri": "https://localhost:8080/",
          "height": 175
        },
        "id": "vHbN0fjYmRDd",
        "outputId": "3edbf6c7-7b78-458f-b5df-696214d88f5f"
      },
      "execution_count": null,
      "outputs": [
        {
          "output_type": "execute_result",
          "data": {
            "text/html": [
              "<div>\n",
              "<style scoped>\n",
              "    .dataframe tbody tr th:only-of-type {\n",
              "        vertical-align: middle;\n",
              "    }\n",
              "\n",
              "    .dataframe tbody tr th {\n",
              "        vertical-align: top;\n",
              "    }\n",
              "\n",
              "    .dataframe thead th {\n",
              "        text-align: right;\n",
              "    }\n",
              "</style>\n",
              "<table border=\"1\" class=\"dataframe\">\n",
              "  <thead>\n",
              "    <tr style=\"text-align: right;\">\n",
              "      <th></th>\n",
              "      <th>survived</th>\n",
              "      <th>pclass</th>\n",
              "      <th>sex</th>\n",
              "      <th>age</th>\n",
              "      <th>sibsp</th>\n",
              "      <th>parch</th>\n",
              "      <th>fare</th>\n",
              "      <th>embarked</th>\n",
              "      <th>class</th>\n",
              "      <th>who</th>\n",
              "      <th>adult_male</th>\n",
              "      <th>deck</th>\n",
              "      <th>embark_town</th>\n",
              "      <th>alive</th>\n",
              "      <th>alone</th>\n",
              "    </tr>\n",
              "  </thead>\n",
              "  <tbody>\n",
              "    <tr>\n",
              "      <th>0</th>\n",
              "      <td>0</td>\n",
              "      <td>3</td>\n",
              "      <td>male</td>\n",
              "      <td>22.0</td>\n",
              "      <td>1</td>\n",
              "      <td>0</td>\n",
              "      <td>7.2500</td>\n",
              "      <td>S</td>\n",
              "      <td>Third</td>\n",
              "      <td>man</td>\n",
              "      <td>True</td>\n",
              "      <td>NaN</td>\n",
              "      <td>Southampton</td>\n",
              "      <td>no</td>\n",
              "      <td>False</td>\n",
              "    </tr>\n",
              "    <tr>\n",
              "      <th>1</th>\n",
              "      <td>1</td>\n",
              "      <td>1</td>\n",
              "      <td>female</td>\n",
              "      <td>38.0</td>\n",
              "      <td>1</td>\n",
              "      <td>0</td>\n",
              "      <td>71.2833</td>\n",
              "      <td>C</td>\n",
              "      <td>First</td>\n",
              "      <td>woman</td>\n",
              "      <td>False</td>\n",
              "      <td>C</td>\n",
              "      <td>Cherbourg</td>\n",
              "      <td>yes</td>\n",
              "      <td>False</td>\n",
              "    </tr>\n",
              "    <tr>\n",
              "      <th>2</th>\n",
              "      <td>1</td>\n",
              "      <td>3</td>\n",
              "      <td>female</td>\n",
              "      <td>26.0</td>\n",
              "      <td>0</td>\n",
              "      <td>0</td>\n",
              "      <td>7.9250</td>\n",
              "      <td>S</td>\n",
              "      <td>Third</td>\n",
              "      <td>woman</td>\n",
              "      <td>False</td>\n",
              "      <td>NaN</td>\n",
              "      <td>Southampton</td>\n",
              "      <td>yes</td>\n",
              "      <td>True</td>\n",
              "    </tr>\n",
              "    <tr>\n",
              "      <th>3</th>\n",
              "      <td>1</td>\n",
              "      <td>1</td>\n",
              "      <td>female</td>\n",
              "      <td>35.0</td>\n",
              "      <td>1</td>\n",
              "      <td>0</td>\n",
              "      <td>53.1000</td>\n",
              "      <td>S</td>\n",
              "      <td>First</td>\n",
              "      <td>woman</td>\n",
              "      <td>False</td>\n",
              "      <td>C</td>\n",
              "      <td>Southampton</td>\n",
              "      <td>yes</td>\n",
              "      <td>False</td>\n",
              "    </tr>\n",
              "  </tbody>\n",
              "</table>\n",
              "</div>"
            ],
            "text/plain": [
              "   survived  pclass     sex   age  ...  deck  embark_town  alive  alone\n",
              "0         0       3    male  22.0  ...   NaN  Southampton     no  False\n",
              "1         1       1  female  38.0  ...     C    Cherbourg    yes  False\n",
              "2         1       3  female  26.0  ...   NaN  Southampton    yes   True\n",
              "3         1       1  female  35.0  ...     C  Southampton    yes  False\n",
              "\n",
              "[4 rows x 15 columns]"
            ]
          },
          "metadata": {},
          "execution_count": 20
        }
      ]
    },
    {
      "cell_type": "code",
      "source": [
        "#dejar solo algunas variables categóricas\n",
        "titanic_nuevo=titanic[[\"survived\",\"pclass\",\"sex\",\"alone\"]]#todas las demas\n",
        "\n",
        "#creamos un nuevo data frame donde nuestras variables ya serán categoricas\n",
        "#incluso podemos cambiar los nombres\n",
        "titanic_nuevo2=pd.DataFrame()\n",
        "titanic_nuevo2[\"sobrevivientes\"]=pd.Categorical(titanic_nuevo[\"survived\"])\n",
        "titanic_nuevo2[\"clase\"]=pd.Categorical(titanic_nuevo[\"pclass\"])\n",
        "titanic_nuevo2[\"genero\"]=pd.Categorical(titanic_nuevo[\"sex\"])\n",
        "titanic_nuevo2[\"estado\"]=pd.Categorical(titanic_nuevo[\"alone\"])"
      ],
      "metadata": {
        "id": "Zn-QZBQcmUKE"
      },
      "execution_count": null,
      "outputs": []
    },
    {
      "cell_type": "code",
      "source": [
        "titanic_nuevo2.head(5)"
      ],
      "metadata": {
        "colab": {
          "base_uri": "https://localhost:8080/",
          "height": 206
        },
        "id": "g5eHR5UaOYKY",
        "outputId": "800131af-7372-4787-ca63-c430f6f3daa7"
      },
      "execution_count": null,
      "outputs": [
        {
          "output_type": "execute_result",
          "data": {
            "text/html": [
              "<div>\n",
              "<style scoped>\n",
              "    .dataframe tbody tr th:only-of-type {\n",
              "        vertical-align: middle;\n",
              "    }\n",
              "\n",
              "    .dataframe tbody tr th {\n",
              "        vertical-align: top;\n",
              "    }\n",
              "\n",
              "    .dataframe thead th {\n",
              "        text-align: right;\n",
              "    }\n",
              "</style>\n",
              "<table border=\"1\" class=\"dataframe\">\n",
              "  <thead>\n",
              "    <tr style=\"text-align: right;\">\n",
              "      <th></th>\n",
              "      <th>sobrevivientes</th>\n",
              "      <th>clase</th>\n",
              "      <th>genero</th>\n",
              "      <th>estado</th>\n",
              "    </tr>\n",
              "  </thead>\n",
              "  <tbody>\n",
              "    <tr>\n",
              "      <th>0</th>\n",
              "      <td>0</td>\n",
              "      <td>3</td>\n",
              "      <td>male</td>\n",
              "      <td>False</td>\n",
              "    </tr>\n",
              "    <tr>\n",
              "      <th>1</th>\n",
              "      <td>1</td>\n",
              "      <td>1</td>\n",
              "      <td>female</td>\n",
              "      <td>False</td>\n",
              "    </tr>\n",
              "    <tr>\n",
              "      <th>2</th>\n",
              "      <td>1</td>\n",
              "      <td>3</td>\n",
              "      <td>female</td>\n",
              "      <td>True</td>\n",
              "    </tr>\n",
              "    <tr>\n",
              "      <th>3</th>\n",
              "      <td>1</td>\n",
              "      <td>1</td>\n",
              "      <td>female</td>\n",
              "      <td>False</td>\n",
              "    </tr>\n",
              "    <tr>\n",
              "      <th>4</th>\n",
              "      <td>0</td>\n",
              "      <td>3</td>\n",
              "      <td>male</td>\n",
              "      <td>True</td>\n",
              "    </tr>\n",
              "  </tbody>\n",
              "</table>\n",
              "</div>"
            ],
            "text/plain": [
              "  sobrevivientes clase  genero estado\n",
              "0              0     3    male  False\n",
              "1              1     1  female  False\n",
              "2              1     3  female   True\n",
              "3              1     1  female  False\n",
              "4              0     3    male   True"
            ]
          },
          "metadata": {},
          "execution_count": 145
        }
      ]
    },
    {
      "cell_type": "code",
      "source": [
        "#tablas multidimensionales\n",
        "#tablas de frecuencia cruzadas agrupadas\n",
        "\n",
        "#Las variables tienen que que ser categóricas\n",
        "\n",
        "def tablas_frecuencia(variablefila,listaVariablesColumnas):\n",
        "  \n",
        "  import pandas as pd #importamos la biblioteca de pandas por si acaso no lo hemos hecho\n",
        "  \n",
        "  #creamos la tabla con las columnas que queremos graficar\n",
        "  tab_10=pd.crosstab( \n",
        "        index=variablefila, #variable para las filas\n",
        "        columns=listaVariablesColumnas, #variables para las columnas\n",
        "        margins=True #que ponga los totales como \"All\"            \n",
        "                      )\n",
        "  #cambiar nombres de los totales\n",
        "  tab_10 = tab_10.rename(columns = {\"All\":\"total_filas\"})\n",
        "  tab_10 = tab_10.rename(index = {\"All\":\"total_columnas\"})\n",
        "\n",
        "  frecuencia_absoluta=tab_10 #colocamos nuestra trabla 10 (frecuencias absolutas ) en la variable frecuencia_absoluta\n",
        "\n",
        "\n",
        "  ####################################  frecuencias relativas marginales ############################\n",
        "\n",
        "  tab_11=tab_10/tab_10.loc[\"total_columnas\"]*100\n",
        "  frecuencia_relativa_marginal_columna=tab_11.round(1)\n",
        "\n",
        "  tab_12=tab_10.T/tab_10[\"total_filas\"]*100\n",
        "  frecuencia_relativa_marginal_fila=tab_12.T.round(1)\n",
        "\n",
        "  ########   A ############### B ################################### C #########################\n",
        "  return frecuencia_absoluta,frecuencia_relativa_marginal_columna,frecuencia_relativa_marginal_fila\n"
      ],
      "metadata": {
        "id": "H246vOcURuVx"
      },
      "execution_count": null,
      "outputs": []
    },
    {
      "cell_type": "code",
      "source": [
        "fila=titanic_nuevo2.sobrevivientes #tiene que estar escrita en formato dataFrame.variable\n",
        "columnas=[titanic_nuevo2.genero,titanic_nuevo2.clase] #tiene que ser las variables en formato de lista\n",
        "\n",
        "frec_ab, frec_re_mg_col, frec_re_mg_fil =tablas_frecuencia(fila,columnas)"
      ],
      "metadata": {
        "id": "ynly7LIDr7ei"
      },
      "execution_count": null,
      "outputs": []
    },
    {
      "cell_type": "code",
      "source": [
        "frec_ab"
      ],
      "metadata": {
        "colab": {
          "base_uri": "https://localhost:8080/",
          "height": 206
        },
        "id": "IjxEJmN4s3ao",
        "outputId": "63239186-b599-4ed3-a577-73a63ac946d4"
      },
      "execution_count": null,
      "outputs": [
        {
          "output_type": "execute_result",
          "data": {
            "text/html": [
              "<div>\n",
              "<style scoped>\n",
              "    .dataframe tbody tr th:only-of-type {\n",
              "        vertical-align: middle;\n",
              "    }\n",
              "\n",
              "    .dataframe tbody tr th {\n",
              "        vertical-align: top;\n",
              "    }\n",
              "\n",
              "    .dataframe thead tr th {\n",
              "        text-align: left;\n",
              "    }\n",
              "\n",
              "    .dataframe thead tr:last-of-type th {\n",
              "        text-align: right;\n",
              "    }\n",
              "</style>\n",
              "<table border=\"1\" class=\"dataframe\">\n",
              "  <thead>\n",
              "    <tr>\n",
              "      <th>genero</th>\n",
              "      <th colspan=\"3\" halign=\"left\">female</th>\n",
              "      <th colspan=\"3\" halign=\"left\">male</th>\n",
              "      <th>total_filas</th>\n",
              "    </tr>\n",
              "    <tr>\n",
              "      <th>clase</th>\n",
              "      <th>1</th>\n",
              "      <th>2</th>\n",
              "      <th>3</th>\n",
              "      <th>1</th>\n",
              "      <th>2</th>\n",
              "      <th>3</th>\n",
              "      <th></th>\n",
              "    </tr>\n",
              "    <tr>\n",
              "      <th>sobrevivientes</th>\n",
              "      <th></th>\n",
              "      <th></th>\n",
              "      <th></th>\n",
              "      <th></th>\n",
              "      <th></th>\n",
              "      <th></th>\n",
              "      <th></th>\n",
              "    </tr>\n",
              "  </thead>\n",
              "  <tbody>\n",
              "    <tr>\n",
              "      <th>0</th>\n",
              "      <td>3</td>\n",
              "      <td>6</td>\n",
              "      <td>72</td>\n",
              "      <td>77</td>\n",
              "      <td>91</td>\n",
              "      <td>300</td>\n",
              "      <td>549</td>\n",
              "    </tr>\n",
              "    <tr>\n",
              "      <th>1</th>\n",
              "      <td>91</td>\n",
              "      <td>70</td>\n",
              "      <td>72</td>\n",
              "      <td>45</td>\n",
              "      <td>17</td>\n",
              "      <td>47</td>\n",
              "      <td>342</td>\n",
              "    </tr>\n",
              "    <tr>\n",
              "      <th>total_columnas</th>\n",
              "      <td>94</td>\n",
              "      <td>76</td>\n",
              "      <td>144</td>\n",
              "      <td>122</td>\n",
              "      <td>108</td>\n",
              "      <td>347</td>\n",
              "      <td>891</td>\n",
              "    </tr>\n",
              "  </tbody>\n",
              "</table>\n",
              "</div>"
            ],
            "text/plain": [
              "genero         female          male           total_filas\n",
              "clase               1   2    3    1    2    3            \n",
              "sobrevivientes                                           \n",
              "0                   3   6   72   77   91  300         549\n",
              "1                  91  70   72   45   17   47         342\n",
              "total_columnas     94  76  144  122  108  347         891"
            ]
          },
          "metadata": {},
          "execution_count": 154
        }
      ]
    },
    {
      "cell_type": "code",
      "source": [
        ""
      ],
      "metadata": {
        "id": "q_WB9pzcu6yr"
      },
      "execution_count": null,
      "outputs": []
    },
    {
      "cell_type": "code",
      "source": [
        "#tablas multidimensionales\n",
        "#tablas de frecuencia cruzadas agrupadas\n",
        "\n",
        "#Frecuencias Relativas absolutas\n",
        "\n",
        "import pandas as pd\n",
        "\n",
        "tab_10=pd.crosstab(\n",
        "    index=titanic_nuevo2[\"sobrevivientes\"], #poner el nombre de la variable que van a ir en las filas\n",
        "    columns=[titanic_nuevo2[\"genero\"],titanic_nuevo2[\"clase\"]], #nombre de las variables que va a ir en las columnas\n",
        "    margins=True             \n",
        "                   )\n",
        "print(\"Tabla de frecuencias absolutas original \\n\\n\",tab_10,\"\\n\\n\")\n",
        "\n",
        "####################################  Cambiar nombres ############################\n",
        "\n",
        "'''\n",
        "\n",
        "tab_10.index=[\"finado\",\"vivo\", \"total_columnas\"] #nuevos nombres filas\n",
        "#cambiar nombre\n",
        "tab_10.columns=[\"f1\",\"f2\", \"f3\",\"m1\",\"m2\", \"m3\",\"total_filas\"] #nuevos nombres columnas\n",
        "\n",
        "\n",
        "print(\"Tabla de frecuencias absolutas \\n\\n\",tab_10,\"\\n\\n\")\n",
        "'''\n",
        "\n",
        "####################################  frecuencias relativas globales ############################\n",
        "\n",
        "'''\n",
        "tab_11=tab_10/tab_10.loc[\"total_columnas\",\"total_filas\"]*100\n",
        "\n",
        "print(\"Tabla de frecuencias relativas globales \\n\\n\",tab_11.round(1))\n",
        "'''\n"
      ],
      "metadata": {
        "colab": {
          "base_uri": "https://localhost:8080/",
          "height": 209
        },
        "id": "2uASZOBQmrRM",
        "outputId": "1d090fdd-83ab-4ce1-e7db-bac28879c284"
      },
      "execution_count": null,
      "outputs": [
        {
          "output_type": "stream",
          "name": "stdout",
          "text": [
            "Tabla de frecuencias absolutas original \n",
            "\n",
            " genero         female          male            All\n",
            "clase               1   2    3    1    2    3     \n",
            "sobrevivientes                                    \n",
            "0                   3   6   72   77   91  300  549\n",
            "1                  91  70   72   45   17   47  342\n",
            "All                94  76  144  122  108  347  891 \n",
            "\n",
            "\n"
          ]
        },
        {
          "output_type": "execute_result",
          "data": {
            "application/vnd.google.colaboratory.intrinsic+json": {
              "type": "string"
            },
            "text/plain": [
              "'\\ntab_11=tab_10/tab_10.loc[\"total_columnas\",\"total_filas\"]*100\\n\\nprint(\"Tabla de frecuencias relativas globales \\n\\n\",tab_11.round(1))\\n'"
            ]
          },
          "metadata": {},
          "execution_count": 123
        }
      ]
    }
  ]
}